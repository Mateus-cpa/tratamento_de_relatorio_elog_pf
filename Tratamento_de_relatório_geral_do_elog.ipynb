{
  "nbformat": 4,
  "nbformat_minor": 0,
  "metadata": {
    "colab": {
      "provenance": [],
      "authorship_tag": "ABX9TyOHANdhmwyi2GbOAuysCMNR",
      "include_colab_link": true
    },
    "kernelspec": {
      "name": "python3",
      "display_name": "Python 3"
    },
    "language_info": {
      "name": "python"
    }
  },
  "cells": [
    {
      "cell_type": "markdown",
      "metadata": {
        "id": "view-in-github",
        "colab_type": "text"
      },
      "source": [
        "<a href=\"https://colab.research.google.com/github/Mateus-cpa/tratamento_de_relatorio_elog_pf/blob/main/Tratamento_de_relat%C3%B3rio_geral_do_elog.ipynb\" target=\"_parent\"><img src=\"https://colab.research.google.com/assets/colab-badge.svg\" alt=\"Open In Colab\"/></a>"
      ]
    },
    {
      "cell_type": "markdown",
      "source": [
        "# Importação de bibliotecas\n"
      ],
      "metadata": {
        "id": "RukMHKD7lIlB"
      }
    },
    {
      "cell_type": "code",
      "source": [
        "from google.colab import files\n",
        "import numpy as np\n",
        "import pandas as pd\n",
        "import matplotlib.pyplot as plt\n",
        "import datetime as dt\n",
        "import io\n",
        "import os"
      ],
      "metadata": {
        "id": "W0ZMK091lLph"
      },
      "execution_count": 4,
      "outputs": []
    },
    {
      "cell_type": "markdown",
      "source": [
        "# Carregamento de dados"
      ],
      "metadata": {
        "id": "gRVbkDwej59Z"
      }
    },
    {
      "cell_type": "code",
      "source": [
        "ugs = [\n",
        "    'SRAC',\n",
        "    'SRAL',\n",
        "    'SRAP',\n",
        "    'SRAM',\n",
        "    'SRBA',\n",
        "    'SRCE',\n",
        "    'CGAD',\n",
        "    'SRDF',\n",
        "    'DITEC',\n",
        "    'DIREN',\n",
        "    'DTI',\n",
        "    'SRES',\n",
        "    'FIG',\n",
        "    'SRGO',\n",
        "    'SRMA',\n",
        "    'SRMT',\n",
        "    'SRMS',\n",
        "    'SRMG',\n",
        "    'SRPA',\n",
        "    'SRPB',\n",
        "    'SRPR',\n",
        "    'SRPE',\n",
        "    'SRPI',\n",
        "    'SRRJ',\n",
        "    'SRRN',\n",
        "    'SRRS',\n",
        "    'SRRO',\n",
        "    'SRRR',\n",
        "    'SRSC',\n",
        "    'SRSP',\n",
        "    'SRSE',\n",
        "    'SRTO']\n",
        "\n",
        "while True:\n",
        "    print(ugs)\n",
        "    selected_UG = input().upper()\n",
        "    if selected_UG in ugs:\n",
        "        break\n",
        "\n"
      ],
      "metadata": {
        "colab": {
          "base_uri": "https://localhost:8080/"
        },
        "id": "PKLh277amIro",
        "outputId": "e326f9fe-ef40-4fd2-ce2d-b9fea4cef317"
      },
      "execution_count": 39,
      "outputs": [
        {
          "name": "stdout",
          "output_type": "stream",
          "text": [
            "['SRAC', 'SRAL', 'SRAP', 'SRAM', 'SRBA', 'SRCE', 'CGAD', 'SRDF', 'DITEC', 'DIREN', 'DTI', 'SRES', 'FIG', 'SRGO', 'SRMA', 'SRMT', 'SRMS', 'SRMG', 'SRPA', 'SRPB', 'SRPR', 'SRPE', 'SRPI', 'SRRJ', 'SRRN', 'SRRS', 'SRRO', 'SRRR', 'SRSC', 'SRSP', 'SRSE', 'SRTO']\n",
            "ditec\n"
          ]
        }
      ]
    },
    {
      "cell_type": "code",
      "execution_count": 5,
      "metadata": {
        "id": "2WJNe3zNjzVz",
        "colab": {
          "base_uri": "https://localhost:8080/",
          "height": 107
        },
        "outputId": "f4742771-197e-49c9-92c9-9dc0136f39f6"
      },
      "outputs": [
        {
          "output_type": "display_data",
          "data": {
            "text/plain": [
              "<IPython.core.display.HTML object>"
            ],
            "text/html": [
              "\n",
              "     <input type=\"file\" id=\"files-23ee4af0-9aa1-4c9b-8b63-63a6850a5b38\" name=\"files[]\" multiple disabled\n",
              "        style=\"border:none\" />\n",
              "     <output id=\"result-23ee4af0-9aa1-4c9b-8b63-63a6850a5b38\">\n",
              "      Upload widget is only available when the cell has been executed in the\n",
              "      current browser session. Please rerun this cell to enable.\n",
              "      </output>\n",
              "      <script>// Copyright 2017 Google LLC\n",
              "//\n",
              "// Licensed under the Apache License, Version 2.0 (the \"License\");\n",
              "// you may not use this file except in compliance with the License.\n",
              "// You may obtain a copy of the License at\n",
              "//\n",
              "//      http://www.apache.org/licenses/LICENSE-2.0\n",
              "//\n",
              "// Unless required by applicable law or agreed to in writing, software\n",
              "// distributed under the License is distributed on an \"AS IS\" BASIS,\n",
              "// WITHOUT WARRANTIES OR CONDITIONS OF ANY KIND, either express or implied.\n",
              "// See the License for the specific language governing permissions and\n",
              "// limitations under the License.\n",
              "\n",
              "/**\n",
              " * @fileoverview Helpers for google.colab Python module.\n",
              " */\n",
              "(function(scope) {\n",
              "function span(text, styleAttributes = {}) {\n",
              "  const element = document.createElement('span');\n",
              "  element.textContent = text;\n",
              "  for (const key of Object.keys(styleAttributes)) {\n",
              "    element.style[key] = styleAttributes[key];\n",
              "  }\n",
              "  return element;\n",
              "}\n",
              "\n",
              "// Max number of bytes which will be uploaded at a time.\n",
              "const MAX_PAYLOAD_SIZE = 100 * 1024;\n",
              "\n",
              "function _uploadFiles(inputId, outputId) {\n",
              "  const steps = uploadFilesStep(inputId, outputId);\n",
              "  const outputElement = document.getElementById(outputId);\n",
              "  // Cache steps on the outputElement to make it available for the next call\n",
              "  // to uploadFilesContinue from Python.\n",
              "  outputElement.steps = steps;\n",
              "\n",
              "  return _uploadFilesContinue(outputId);\n",
              "}\n",
              "\n",
              "// This is roughly an async generator (not supported in the browser yet),\n",
              "// where there are multiple asynchronous steps and the Python side is going\n",
              "// to poll for completion of each step.\n",
              "// This uses a Promise to block the python side on completion of each step,\n",
              "// then passes the result of the previous step as the input to the next step.\n",
              "function _uploadFilesContinue(outputId) {\n",
              "  const outputElement = document.getElementById(outputId);\n",
              "  const steps = outputElement.steps;\n",
              "\n",
              "  const next = steps.next(outputElement.lastPromiseValue);\n",
              "  return Promise.resolve(next.value.promise).then((value) => {\n",
              "    // Cache the last promise value to make it available to the next\n",
              "    // step of the generator.\n",
              "    outputElement.lastPromiseValue = value;\n",
              "    return next.value.response;\n",
              "  });\n",
              "}\n",
              "\n",
              "/**\n",
              " * Generator function which is called between each async step of the upload\n",
              " * process.\n",
              " * @param {string} inputId Element ID of the input file picker element.\n",
              " * @param {string} outputId Element ID of the output display.\n",
              " * @return {!Iterable<!Object>} Iterable of next steps.\n",
              " */\n",
              "function* uploadFilesStep(inputId, outputId) {\n",
              "  const inputElement = document.getElementById(inputId);\n",
              "  inputElement.disabled = false;\n",
              "\n",
              "  const outputElement = document.getElementById(outputId);\n",
              "  outputElement.innerHTML = '';\n",
              "\n",
              "  const pickedPromise = new Promise((resolve) => {\n",
              "    inputElement.addEventListener('change', (e) => {\n",
              "      resolve(e.target.files);\n",
              "    });\n",
              "  });\n",
              "\n",
              "  const cancel = document.createElement('button');\n",
              "  inputElement.parentElement.appendChild(cancel);\n",
              "  cancel.textContent = 'Cancel upload';\n",
              "  const cancelPromise = new Promise((resolve) => {\n",
              "    cancel.onclick = () => {\n",
              "      resolve(null);\n",
              "    };\n",
              "  });\n",
              "\n",
              "  // Wait for the user to pick the files.\n",
              "  const files = yield {\n",
              "    promise: Promise.race([pickedPromise, cancelPromise]),\n",
              "    response: {\n",
              "      action: 'starting',\n",
              "    }\n",
              "  };\n",
              "\n",
              "  cancel.remove();\n",
              "\n",
              "  // Disable the input element since further picks are not allowed.\n",
              "  inputElement.disabled = true;\n",
              "\n",
              "  if (!files) {\n",
              "    return {\n",
              "      response: {\n",
              "        action: 'complete',\n",
              "      }\n",
              "    };\n",
              "  }\n",
              "\n",
              "  for (const file of files) {\n",
              "    const li = document.createElement('li');\n",
              "    li.append(span(file.name, {fontWeight: 'bold'}));\n",
              "    li.append(span(\n",
              "        `(${file.type || 'n/a'}) - ${file.size} bytes, ` +\n",
              "        `last modified: ${\n",
              "            file.lastModifiedDate ? file.lastModifiedDate.toLocaleDateString() :\n",
              "                                    'n/a'} - `));\n",
              "    const percent = span('0% done');\n",
              "    li.appendChild(percent);\n",
              "\n",
              "    outputElement.appendChild(li);\n",
              "\n",
              "    const fileDataPromise = new Promise((resolve) => {\n",
              "      const reader = new FileReader();\n",
              "      reader.onload = (e) => {\n",
              "        resolve(e.target.result);\n",
              "      };\n",
              "      reader.readAsArrayBuffer(file);\n",
              "    });\n",
              "    // Wait for the data to be ready.\n",
              "    let fileData = yield {\n",
              "      promise: fileDataPromise,\n",
              "      response: {\n",
              "        action: 'continue',\n",
              "      }\n",
              "    };\n",
              "\n",
              "    // Use a chunked sending to avoid message size limits. See b/62115660.\n",
              "    let position = 0;\n",
              "    do {\n",
              "      const length = Math.min(fileData.byteLength - position, MAX_PAYLOAD_SIZE);\n",
              "      const chunk = new Uint8Array(fileData, position, length);\n",
              "      position += length;\n",
              "\n",
              "      const base64 = btoa(String.fromCharCode.apply(null, chunk));\n",
              "      yield {\n",
              "        response: {\n",
              "          action: 'append',\n",
              "          file: file.name,\n",
              "          data: base64,\n",
              "        },\n",
              "      };\n",
              "\n",
              "      let percentDone = fileData.byteLength === 0 ?\n",
              "          100 :\n",
              "          Math.round((position / fileData.byteLength) * 100);\n",
              "      percent.textContent = `${percentDone}% done`;\n",
              "\n",
              "    } while (position < fileData.byteLength);\n",
              "  }\n",
              "\n",
              "  // All done.\n",
              "  yield {\n",
              "    response: {\n",
              "      action: 'complete',\n",
              "    }\n",
              "  };\n",
              "}\n",
              "\n",
              "scope.google = scope.google || {};\n",
              "scope.google.colab = scope.google.colab || {};\n",
              "scope.google.colab._files = {\n",
              "  _uploadFiles,\n",
              "  _uploadFilesContinue,\n",
              "};\n",
              "})(self);\n",
              "</script> "
            ]
          },
          "metadata": {}
        },
        {
          "output_type": "stream",
          "name": "stdout",
          "text": [
            "Saving lista_bens.xlsx to lista_bens (1).xlsx\n"
          ]
        },
        {
          "output_type": "stream",
          "name": "stderr",
          "text": [
            "/usr/local/lib/python3.10/dist-packages/openpyxl/styles/stylesheet.py:237: UserWarning: Workbook contains no default style, apply openpyxl's default\n",
            "  warn(\"Workbook contains no default style, apply openpyxl's default\")\n"
          ]
        }
      ],
      "source": [
        "#importar os dados da pasta do computador\n",
        "uploaded = files.upload()\n",
        "filename = next(iter(uploaded))\n",
        "df = pd.read_excel(io.BytesIO(uploaded[filename]))\n"
      ]
    },
    {
      "cell_type": "code",
      "source": [
        "def pega_tamanho_em_mb(filepath):\n",
        "  \"\"\" Retorna o tamanho de um arquivo em Mb. \"\"\"\n",
        "  tamanho_em_bytes = os.path.getsize(filepath)\n",
        "  tamanho_em_mb = tamanho_em_bytes / (1024 * 1024)\n",
        "  return tamanho_em_mb\n",
        "\n",
        "# Exemplo de uso:\n",
        "filepath = f'/content/{filename}'\n",
        "tamanho_antigo_arquivo = pega_tamanho_em_mb(filepath)\n",
        "print(f\"O tamanho do arquivo é: {tamanho_antigo_arquivo} MB\")"
      ],
      "metadata": {
        "colab": {
          "base_uri": "https://localhost:8080/"
        },
        "id": "c-EqbgMl_Epw",
        "outputId": "a86864bd-4cc0-46a4-abbb-403a13041337"
      },
      "execution_count": 40,
      "outputs": [
        {
          "output_type": "stream",
          "name": "stdout",
          "text": [
            "O tamanho do arquivo é: 7.7210493087768555 MB\n"
          ]
        }
      ]
    },
    {
      "cell_type": "code",
      "source": [
        "#configurar num tombamento como índice\n",
        "base_elog = df.copy()\n",
        "base_elog['index'] = base_elog['num tombamento']\n",
        "base_elog.set_index('index')"
      ],
      "metadata": {
        "id": "8fsF_2XmDDEC",
        "colab": {
          "base_uri": "https://localhost:8080/",
          "height": 1000
        },
        "outputId": "3ed0baad-ddff-438f-c348-6073d0427a96"
      },
      "execution_count": 41,
      "outputs": [
        {
          "output_type": "execute_result",
          "data": {
            "text/plain": [
              "                                 unidade responsavel material  codigo  \\\n",
              "index                                                                   \n",
              "2010000967  DIVISÃO DE PERÍCIAS EXTERNAS, EM MEIO AMBIENTE...    5242   \n",
              "2010001384  DIVISÃO DE ADMINISTRAÇÃO E LOGÍSTICA - DILOG/D...    5242   \n",
              "2010001721  DIVISÃO DE ADMINISTRAÇÃO E LOGÍSTICA - DILOG/D...    5212   \n",
              "2010001813  SERVIÇO DE PERÍCIAS CONTÁBEIS E ECONÔMICAS - S...    5242   \n",
              "2010001894  INSTITUTO NACIONAL DE CRIMINALÍSTICA - INC/DIT...    5242   \n",
              "...                                                       ...     ...   \n",
              "2024033711  SETOR DE DESENVOLVIMENTO INSTITUCIONAL - SEDIN...    5233   \n",
              "2024033712  SETOR DE DESENVOLVIMENTO INSTITUCIONAL - SEDIN...    5233   \n",
              "2024033713  SETOR DE DESENVOLVIMENTO INSTITUCIONAL - SEDIN...    5230   \n",
              "2024033715  SETOR DE DESENVOLVIMENTO INSTITUCIONAL - SEDIN...    5212   \n",
              "2024033716  SETOR DE DESENVOLVIMENTO INSTITUCIONAL - SEDIN...    5242   \n",
              "\n",
              "                                grupo de material  codigo material  \\\n",
              "index                                                                \n",
              "2010000967                    MOBILIARIO EM GERAL    5242032000165   \n",
              "2010001384                    MOBILIARIO EM GERAL    5242010000153   \n",
              "2010001721      APARELHOS E UTENSILIOS DOMESTICOS    5212027003294   \n",
              "2010001813                    MOBILIARIO EM GERAL    5242001000519   \n",
              "2010001894                    MOBILIARIO EM GERAL    5242001000519   \n",
              "...                                           ...              ...   \n",
              "2024033711  EQUIPAMENTOS PARA AUDIO, VIDEO E FOTO    5233038005473   \n",
              "2024033712  EQUIPAMENTOS PARA AUDIO, VIDEO E FOTO    5233038005473   \n",
              "2024033713    MAQUINAS E EQUIPAMENTOS ENERGETICOS    5230005000010   \n",
              "2024033715      APARELHOS E UTENSILIOS DOMESTICOS    5212037003330   \n",
              "2024033716                    MOBILIARIO EM GERAL    5242027000205   \n",
              "\n",
              "           subgrupo de material  num tombamento acautelado para  \\\n",
              "index                                                             \n",
              "2010000967            CABIDEIRO      2010000967             NaN   \n",
              "2010001384                 MESA      2010001384             NaN   \n",
              "2010001721             FRIGOBAR      2010001721             NaN   \n",
              "2010001813             MIGRACAO      2010001813             NaN   \n",
              "2010001894             MIGRACAO      2010001894             NaN   \n",
              "...                         ...             ...             ...   \n",
              "2024033711              SUPORTE      2024033711             NaN   \n",
              "2024033712              SUPORTE      2024033712             NaN   \n",
              "2024033713        ESTABILIZADOR      2024033713             NaN   \n",
              "2024033715          VAPORIZADOR      2024033715             NaN   \n",
              "2024033716              PULPITO      2024033716             NaN   \n",
              "\n",
              "            matricula detentor validado eletron data assinatura  ... tensao  \\\n",
              "index                                                            ...          \n",
              "2010000967                 NaN              NÃO             NaN  ...    NaN   \n",
              "2010001384                 NaN              NÃO             NaN  ...    NaN   \n",
              "2010001721                 NaN              NÃO             NaN  ...    NaN   \n",
              "2010001813                 NaN              NÃO             NaN  ...    NaN   \n",
              "2010001894                 NaN              NÃO             NaN  ...    NaN   \n",
              "...                        ...              ...             ...  ...    ...   \n",
              "2024033711                 NaN              NÃO             NaN  ...    NaN   \n",
              "2024033712                 NaN              NÃO             NaN  ...    NaN   \n",
              "2024033713                 NaN              NÃO             NaN  ...    NaN   \n",
              "2024033715                 NaN              NÃO             NaN  ...    NaN   \n",
              "2024033716                 NaN              NÃO             NaN  ...    NaN   \n",
              "\n",
              "           tensao de alimentacao tipo tipo de identificacao  \\\n",
              "index                                                         \n",
              "2010000967                   NaN  NaN                   NaN   \n",
              "2010001384                   NaN  NaN                   NaN   \n",
              "2010001721                   NaN  NaN                   NaN   \n",
              "2010001813                   NaN  NaN                   NaN   \n",
              "2010001894                   NaN  NaN                   NaN   \n",
              "...                          ...  ...                   ...   \n",
              "2024033711                   NaN  NaN                   NaN   \n",
              "2024033712                   NaN  NaN                   NaN   \n",
              "2024033713                   NaN  NaN                   NaN   \n",
              "2024033715                   NaN  NaN                   NaN   \n",
              "2024033716                   NaN  NaN                   NaN   \n",
              "\n",
              "           tipo de propriedade velocidade velocidade de varredura voltagem  \\\n",
              "index                                                                        \n",
              "2010000967                 NaN        NaN                     NaN      NaN   \n",
              "2010001384                 NaN        NaN                     NaN      NaN   \n",
              "2010001721                 NaN        NaN                     NaN      NaN   \n",
              "2010001813                 NaN        NaN                     NaN      NaN   \n",
              "2010001894                 NaN        NaN                     NaN      NaN   \n",
              "...                        ...        ...                     ...      ...   \n",
              "2024033711                 NaN        NaN                     NaN      NaN   \n",
              "2024033712                 NaN        NaN                     NaN      NaN   \n",
              "2024033713                 NaN        NaN                     NaN      NaN   \n",
              "2024033715                 NaN        NaN                     NaN      NaN   \n",
              "2024033716                 NaN        NaN                     NaN      NaN   \n",
              "\n",
              "           volume zoom otico  \n",
              "index                         \n",
              "2010000967    NaN        NaN  \n",
              "2010001384    NaN        NaN  \n",
              "2010001721    NaN        NaN  \n",
              "2010001813    NaN        NaN  \n",
              "2010001894    NaN        NaN  \n",
              "...           ...        ...  \n",
              "2024033711    NaN        NaN  \n",
              "2024033712    NaN        NaN  \n",
              "2024033713    NaN        NaN  \n",
              "2024033715    NaN        NaN  \n",
              "2024033716    NaN        NaN  \n",
              "\n",
              "[16809 rows x 136 columns]"
            ],
            "text/html": [
              "\n",
              "  <div id=\"df-9931f566-699f-4578-93ec-3011de3cc3d2\" class=\"colab-df-container\">\n",
              "    <div>\n",
              "<style scoped>\n",
              "    .dataframe tbody tr th:only-of-type {\n",
              "        vertical-align: middle;\n",
              "    }\n",
              "\n",
              "    .dataframe tbody tr th {\n",
              "        vertical-align: top;\n",
              "    }\n",
              "\n",
              "    .dataframe thead th {\n",
              "        text-align: right;\n",
              "    }\n",
              "</style>\n",
              "<table border=\"1\" class=\"dataframe\">\n",
              "  <thead>\n",
              "    <tr style=\"text-align: right;\">\n",
              "      <th></th>\n",
              "      <th>unidade responsavel material</th>\n",
              "      <th>codigo</th>\n",
              "      <th>grupo de material</th>\n",
              "      <th>codigo material</th>\n",
              "      <th>subgrupo de material</th>\n",
              "      <th>num tombamento</th>\n",
              "      <th>acautelado para</th>\n",
              "      <th>matricula detentor</th>\n",
              "      <th>validado eletron</th>\n",
              "      <th>data assinatura</th>\n",
              "      <th>...</th>\n",
              "      <th>tensao</th>\n",
              "      <th>tensao de alimentacao</th>\n",
              "      <th>tipo</th>\n",
              "      <th>tipo de identificacao</th>\n",
              "      <th>tipo de propriedade</th>\n",
              "      <th>velocidade</th>\n",
              "      <th>velocidade de varredura</th>\n",
              "      <th>voltagem</th>\n",
              "      <th>volume</th>\n",
              "      <th>zoom otico</th>\n",
              "    </tr>\n",
              "    <tr>\n",
              "      <th>index</th>\n",
              "      <th></th>\n",
              "      <th></th>\n",
              "      <th></th>\n",
              "      <th></th>\n",
              "      <th></th>\n",
              "      <th></th>\n",
              "      <th></th>\n",
              "      <th></th>\n",
              "      <th></th>\n",
              "      <th></th>\n",
              "      <th></th>\n",
              "      <th></th>\n",
              "      <th></th>\n",
              "      <th></th>\n",
              "      <th></th>\n",
              "      <th></th>\n",
              "      <th></th>\n",
              "      <th></th>\n",
              "      <th></th>\n",
              "      <th></th>\n",
              "      <th></th>\n",
              "    </tr>\n",
              "  </thead>\n",
              "  <tbody>\n",
              "    <tr>\n",
              "      <th>2010000967</th>\n",
              "      <td>DIVISÃO DE PERÍCIAS EXTERNAS, EM MEIO AMBIENTE...</td>\n",
              "      <td>5242</td>\n",
              "      <td>MOBILIARIO EM GERAL</td>\n",
              "      <td>5242032000165</td>\n",
              "      <td>CABIDEIRO</td>\n",
              "      <td>2010000967</td>\n",
              "      <td>NaN</td>\n",
              "      <td>NaN</td>\n",
              "      <td>NÃO</td>\n",
              "      <td>NaN</td>\n",
              "      <td>...</td>\n",
              "      <td>NaN</td>\n",
              "      <td>NaN</td>\n",
              "      <td>NaN</td>\n",
              "      <td>NaN</td>\n",
              "      <td>NaN</td>\n",
              "      <td>NaN</td>\n",
              "      <td>NaN</td>\n",
              "      <td>NaN</td>\n",
              "      <td>NaN</td>\n",
              "      <td>NaN</td>\n",
              "    </tr>\n",
              "    <tr>\n",
              "      <th>2010001384</th>\n",
              "      <td>DIVISÃO DE ADMINISTRAÇÃO E LOGÍSTICA - DILOG/D...</td>\n",
              "      <td>5242</td>\n",
              "      <td>MOBILIARIO EM GERAL</td>\n",
              "      <td>5242010000153</td>\n",
              "      <td>MESA</td>\n",
              "      <td>2010001384</td>\n",
              "      <td>NaN</td>\n",
              "      <td>NaN</td>\n",
              "      <td>NÃO</td>\n",
              "      <td>NaN</td>\n",
              "      <td>...</td>\n",
              "      <td>NaN</td>\n",
              "      <td>NaN</td>\n",
              "      <td>NaN</td>\n",
              "      <td>NaN</td>\n",
              "      <td>NaN</td>\n",
              "      <td>NaN</td>\n",
              "      <td>NaN</td>\n",
              "      <td>NaN</td>\n",
              "      <td>NaN</td>\n",
              "      <td>NaN</td>\n",
              "    </tr>\n",
              "    <tr>\n",
              "      <th>2010001721</th>\n",
              "      <td>DIVISÃO DE ADMINISTRAÇÃO E LOGÍSTICA - DILOG/D...</td>\n",
              "      <td>5212</td>\n",
              "      <td>APARELHOS E UTENSILIOS DOMESTICOS</td>\n",
              "      <td>5212027003294</td>\n",
              "      <td>FRIGOBAR</td>\n",
              "      <td>2010001721</td>\n",
              "      <td>NaN</td>\n",
              "      <td>NaN</td>\n",
              "      <td>NÃO</td>\n",
              "      <td>NaN</td>\n",
              "      <td>...</td>\n",
              "      <td>NaN</td>\n",
              "      <td>NaN</td>\n",
              "      <td>NaN</td>\n",
              "      <td>NaN</td>\n",
              "      <td>NaN</td>\n",
              "      <td>NaN</td>\n",
              "      <td>NaN</td>\n",
              "      <td>NaN</td>\n",
              "      <td>NaN</td>\n",
              "      <td>NaN</td>\n",
              "    </tr>\n",
              "    <tr>\n",
              "      <th>2010001813</th>\n",
              "      <td>SERVIÇO DE PERÍCIAS CONTÁBEIS E ECONÔMICAS - S...</td>\n",
              "      <td>5242</td>\n",
              "      <td>MOBILIARIO EM GERAL</td>\n",
              "      <td>5242001000519</td>\n",
              "      <td>MIGRACAO</td>\n",
              "      <td>2010001813</td>\n",
              "      <td>NaN</td>\n",
              "      <td>NaN</td>\n",
              "      <td>NÃO</td>\n",
              "      <td>NaN</td>\n",
              "      <td>...</td>\n",
              "      <td>NaN</td>\n",
              "      <td>NaN</td>\n",
              "      <td>NaN</td>\n",
              "      <td>NaN</td>\n",
              "      <td>NaN</td>\n",
              "      <td>NaN</td>\n",
              "      <td>NaN</td>\n",
              "      <td>NaN</td>\n",
              "      <td>NaN</td>\n",
              "      <td>NaN</td>\n",
              "    </tr>\n",
              "    <tr>\n",
              "      <th>2010001894</th>\n",
              "      <td>INSTITUTO NACIONAL DE CRIMINALÍSTICA - INC/DIT...</td>\n",
              "      <td>5242</td>\n",
              "      <td>MOBILIARIO EM GERAL</td>\n",
              "      <td>5242001000519</td>\n",
              "      <td>MIGRACAO</td>\n",
              "      <td>2010001894</td>\n",
              "      <td>NaN</td>\n",
              "      <td>NaN</td>\n",
              "      <td>NÃO</td>\n",
              "      <td>NaN</td>\n",
              "      <td>...</td>\n",
              "      <td>NaN</td>\n",
              "      <td>NaN</td>\n",
              "      <td>NaN</td>\n",
              "      <td>NaN</td>\n",
              "      <td>NaN</td>\n",
              "      <td>NaN</td>\n",
              "      <td>NaN</td>\n",
              "      <td>NaN</td>\n",
              "      <td>NaN</td>\n",
              "      <td>NaN</td>\n",
              "    </tr>\n",
              "    <tr>\n",
              "      <th>...</th>\n",
              "      <td>...</td>\n",
              "      <td>...</td>\n",
              "      <td>...</td>\n",
              "      <td>...</td>\n",
              "      <td>...</td>\n",
              "      <td>...</td>\n",
              "      <td>...</td>\n",
              "      <td>...</td>\n",
              "      <td>...</td>\n",
              "      <td>...</td>\n",
              "      <td>...</td>\n",
              "      <td>...</td>\n",
              "      <td>...</td>\n",
              "      <td>...</td>\n",
              "      <td>...</td>\n",
              "      <td>...</td>\n",
              "      <td>...</td>\n",
              "      <td>...</td>\n",
              "      <td>...</td>\n",
              "      <td>...</td>\n",
              "      <td>...</td>\n",
              "    </tr>\n",
              "    <tr>\n",
              "      <th>2024033711</th>\n",
              "      <td>SETOR DE DESENVOLVIMENTO INSTITUCIONAL - SEDIN...</td>\n",
              "      <td>5233</td>\n",
              "      <td>EQUIPAMENTOS PARA AUDIO, VIDEO E FOTO</td>\n",
              "      <td>5233038005473</td>\n",
              "      <td>SUPORTE</td>\n",
              "      <td>2024033711</td>\n",
              "      <td>NaN</td>\n",
              "      <td>NaN</td>\n",
              "      <td>NÃO</td>\n",
              "      <td>NaN</td>\n",
              "      <td>...</td>\n",
              "      <td>NaN</td>\n",
              "      <td>NaN</td>\n",
              "      <td>NaN</td>\n",
              "      <td>NaN</td>\n",
              "      <td>NaN</td>\n",
              "      <td>NaN</td>\n",
              "      <td>NaN</td>\n",
              "      <td>NaN</td>\n",
              "      <td>NaN</td>\n",
              "      <td>NaN</td>\n",
              "    </tr>\n",
              "    <tr>\n",
              "      <th>2024033712</th>\n",
              "      <td>SETOR DE DESENVOLVIMENTO INSTITUCIONAL - SEDIN...</td>\n",
              "      <td>5233</td>\n",
              "      <td>EQUIPAMENTOS PARA AUDIO, VIDEO E FOTO</td>\n",
              "      <td>5233038005473</td>\n",
              "      <td>SUPORTE</td>\n",
              "      <td>2024033712</td>\n",
              "      <td>NaN</td>\n",
              "      <td>NaN</td>\n",
              "      <td>NÃO</td>\n",
              "      <td>NaN</td>\n",
              "      <td>...</td>\n",
              "      <td>NaN</td>\n",
              "      <td>NaN</td>\n",
              "      <td>NaN</td>\n",
              "      <td>NaN</td>\n",
              "      <td>NaN</td>\n",
              "      <td>NaN</td>\n",
              "      <td>NaN</td>\n",
              "      <td>NaN</td>\n",
              "      <td>NaN</td>\n",
              "      <td>NaN</td>\n",
              "    </tr>\n",
              "    <tr>\n",
              "      <th>2024033713</th>\n",
              "      <td>SETOR DE DESENVOLVIMENTO INSTITUCIONAL - SEDIN...</td>\n",
              "      <td>5230</td>\n",
              "      <td>MAQUINAS E EQUIPAMENTOS ENERGETICOS</td>\n",
              "      <td>5230005000010</td>\n",
              "      <td>ESTABILIZADOR</td>\n",
              "      <td>2024033713</td>\n",
              "      <td>NaN</td>\n",
              "      <td>NaN</td>\n",
              "      <td>NÃO</td>\n",
              "      <td>NaN</td>\n",
              "      <td>...</td>\n",
              "      <td>NaN</td>\n",
              "      <td>NaN</td>\n",
              "      <td>NaN</td>\n",
              "      <td>NaN</td>\n",
              "      <td>NaN</td>\n",
              "      <td>NaN</td>\n",
              "      <td>NaN</td>\n",
              "      <td>NaN</td>\n",
              "      <td>NaN</td>\n",
              "      <td>NaN</td>\n",
              "    </tr>\n",
              "    <tr>\n",
              "      <th>2024033715</th>\n",
              "      <td>SETOR DE DESENVOLVIMENTO INSTITUCIONAL - SEDIN...</td>\n",
              "      <td>5212</td>\n",
              "      <td>APARELHOS E UTENSILIOS DOMESTICOS</td>\n",
              "      <td>5212037003330</td>\n",
              "      <td>VAPORIZADOR</td>\n",
              "      <td>2024033715</td>\n",
              "      <td>NaN</td>\n",
              "      <td>NaN</td>\n",
              "      <td>NÃO</td>\n",
              "      <td>NaN</td>\n",
              "      <td>...</td>\n",
              "      <td>NaN</td>\n",
              "      <td>NaN</td>\n",
              "      <td>NaN</td>\n",
              "      <td>NaN</td>\n",
              "      <td>NaN</td>\n",
              "      <td>NaN</td>\n",
              "      <td>NaN</td>\n",
              "      <td>NaN</td>\n",
              "      <td>NaN</td>\n",
              "      <td>NaN</td>\n",
              "    </tr>\n",
              "    <tr>\n",
              "      <th>2024033716</th>\n",
              "      <td>SETOR DE DESENVOLVIMENTO INSTITUCIONAL - SEDIN...</td>\n",
              "      <td>5242</td>\n",
              "      <td>MOBILIARIO EM GERAL</td>\n",
              "      <td>5242027000205</td>\n",
              "      <td>PULPITO</td>\n",
              "      <td>2024033716</td>\n",
              "      <td>NaN</td>\n",
              "      <td>NaN</td>\n",
              "      <td>NÃO</td>\n",
              "      <td>NaN</td>\n",
              "      <td>...</td>\n",
              "      <td>NaN</td>\n",
              "      <td>NaN</td>\n",
              "      <td>NaN</td>\n",
              "      <td>NaN</td>\n",
              "      <td>NaN</td>\n",
              "      <td>NaN</td>\n",
              "      <td>NaN</td>\n",
              "      <td>NaN</td>\n",
              "      <td>NaN</td>\n",
              "      <td>NaN</td>\n",
              "    </tr>\n",
              "  </tbody>\n",
              "</table>\n",
              "<p>16809 rows × 136 columns</p>\n",
              "</div>\n",
              "    <div class=\"colab-df-buttons\">\n",
              "\n",
              "  <div class=\"colab-df-container\">\n",
              "    <button class=\"colab-df-convert\" onclick=\"convertToInteractive('df-9931f566-699f-4578-93ec-3011de3cc3d2')\"\n",
              "            title=\"Convert this dataframe to an interactive table.\"\n",
              "            style=\"display:none;\">\n",
              "\n",
              "  <svg xmlns=\"http://www.w3.org/2000/svg\" height=\"24px\" viewBox=\"0 -960 960 960\">\n",
              "    <path d=\"M120-120v-720h720v720H120Zm60-500h600v-160H180v160Zm220 220h160v-160H400v160Zm0 220h160v-160H400v160ZM180-400h160v-160H180v160Zm440 0h160v-160H620v160ZM180-180h160v-160H180v160Zm440 0h160v-160H620v160Z\"/>\n",
              "  </svg>\n",
              "    </button>\n",
              "\n",
              "  <style>\n",
              "    .colab-df-container {\n",
              "      display:flex;\n",
              "      gap: 12px;\n",
              "    }\n",
              "\n",
              "    .colab-df-convert {\n",
              "      background-color: #E8F0FE;\n",
              "      border: none;\n",
              "      border-radius: 50%;\n",
              "      cursor: pointer;\n",
              "      display: none;\n",
              "      fill: #1967D2;\n",
              "      height: 32px;\n",
              "      padding: 0 0 0 0;\n",
              "      width: 32px;\n",
              "    }\n",
              "\n",
              "    .colab-df-convert:hover {\n",
              "      background-color: #E2EBFA;\n",
              "      box-shadow: 0px 1px 2px rgba(60, 64, 67, 0.3), 0px 1px 3px 1px rgba(60, 64, 67, 0.15);\n",
              "      fill: #174EA6;\n",
              "    }\n",
              "\n",
              "    .colab-df-buttons div {\n",
              "      margin-bottom: 4px;\n",
              "    }\n",
              "\n",
              "    [theme=dark] .colab-df-convert {\n",
              "      background-color: #3B4455;\n",
              "      fill: #D2E3FC;\n",
              "    }\n",
              "\n",
              "    [theme=dark] .colab-df-convert:hover {\n",
              "      background-color: #434B5C;\n",
              "      box-shadow: 0px 1px 3px 1px rgba(0, 0, 0, 0.15);\n",
              "      filter: drop-shadow(0px 1px 2px rgba(0, 0, 0, 0.3));\n",
              "      fill: #FFFFFF;\n",
              "    }\n",
              "  </style>\n",
              "\n",
              "    <script>\n",
              "      const buttonEl =\n",
              "        document.querySelector('#df-9931f566-699f-4578-93ec-3011de3cc3d2 button.colab-df-convert');\n",
              "      buttonEl.style.display =\n",
              "        google.colab.kernel.accessAllowed ? 'block' : 'none';\n",
              "\n",
              "      async function convertToInteractive(key) {\n",
              "        const element = document.querySelector('#df-9931f566-699f-4578-93ec-3011de3cc3d2');\n",
              "        const dataTable =\n",
              "          await google.colab.kernel.invokeFunction('convertToInteractive',\n",
              "                                                    [key], {});\n",
              "        if (!dataTable) return;\n",
              "\n",
              "        const docLinkHtml = 'Like what you see? Visit the ' +\n",
              "          '<a target=\"_blank\" href=https://colab.research.google.com/notebooks/data_table.ipynb>data table notebook</a>'\n",
              "          + ' to learn more about interactive tables.';\n",
              "        element.innerHTML = '';\n",
              "        dataTable['output_type'] = 'display_data';\n",
              "        await google.colab.output.renderOutput(dataTable, element);\n",
              "        const docLink = document.createElement('div');\n",
              "        docLink.innerHTML = docLinkHtml;\n",
              "        element.appendChild(docLink);\n",
              "      }\n",
              "    </script>\n",
              "  </div>\n",
              "\n",
              "\n",
              "<div id=\"df-3175b761-2663-4312-8ed8-4420ab042c70\">\n",
              "  <button class=\"colab-df-quickchart\" onclick=\"quickchart('df-3175b761-2663-4312-8ed8-4420ab042c70')\"\n",
              "            title=\"Suggest charts\"\n",
              "            style=\"display:none;\">\n",
              "\n",
              "<svg xmlns=\"http://www.w3.org/2000/svg\" height=\"24px\"viewBox=\"0 0 24 24\"\n",
              "     width=\"24px\">\n",
              "    <g>\n",
              "        <path d=\"M19 3H5c-1.1 0-2 .9-2 2v14c0 1.1.9 2 2 2h14c1.1 0 2-.9 2-2V5c0-1.1-.9-2-2-2zM9 17H7v-7h2v7zm4 0h-2V7h2v10zm4 0h-2v-4h2v4z\"/>\n",
              "    </g>\n",
              "</svg>\n",
              "  </button>\n",
              "\n",
              "<style>\n",
              "  .colab-df-quickchart {\n",
              "      --bg-color: #E8F0FE;\n",
              "      --fill-color: #1967D2;\n",
              "      --hover-bg-color: #E2EBFA;\n",
              "      --hover-fill-color: #174EA6;\n",
              "      --disabled-fill-color: #AAA;\n",
              "      --disabled-bg-color: #DDD;\n",
              "  }\n",
              "\n",
              "  [theme=dark] .colab-df-quickchart {\n",
              "      --bg-color: #3B4455;\n",
              "      --fill-color: #D2E3FC;\n",
              "      --hover-bg-color: #434B5C;\n",
              "      --hover-fill-color: #FFFFFF;\n",
              "      --disabled-bg-color: #3B4455;\n",
              "      --disabled-fill-color: #666;\n",
              "  }\n",
              "\n",
              "  .colab-df-quickchart {\n",
              "    background-color: var(--bg-color);\n",
              "    border: none;\n",
              "    border-radius: 50%;\n",
              "    cursor: pointer;\n",
              "    display: none;\n",
              "    fill: var(--fill-color);\n",
              "    height: 32px;\n",
              "    padding: 0;\n",
              "    width: 32px;\n",
              "  }\n",
              "\n",
              "  .colab-df-quickchart:hover {\n",
              "    background-color: var(--hover-bg-color);\n",
              "    box-shadow: 0 1px 2px rgba(60, 64, 67, 0.3), 0 1px 3px 1px rgba(60, 64, 67, 0.15);\n",
              "    fill: var(--button-hover-fill-color);\n",
              "  }\n",
              "\n",
              "  .colab-df-quickchart-complete:disabled,\n",
              "  .colab-df-quickchart-complete:disabled:hover {\n",
              "    background-color: var(--disabled-bg-color);\n",
              "    fill: var(--disabled-fill-color);\n",
              "    box-shadow: none;\n",
              "  }\n",
              "\n",
              "  .colab-df-spinner {\n",
              "    border: 2px solid var(--fill-color);\n",
              "    border-color: transparent;\n",
              "    border-bottom-color: var(--fill-color);\n",
              "    animation:\n",
              "      spin 1s steps(1) infinite;\n",
              "  }\n",
              "\n",
              "  @keyframes spin {\n",
              "    0% {\n",
              "      border-color: transparent;\n",
              "      border-bottom-color: var(--fill-color);\n",
              "      border-left-color: var(--fill-color);\n",
              "    }\n",
              "    20% {\n",
              "      border-color: transparent;\n",
              "      border-left-color: var(--fill-color);\n",
              "      border-top-color: var(--fill-color);\n",
              "    }\n",
              "    30% {\n",
              "      border-color: transparent;\n",
              "      border-left-color: var(--fill-color);\n",
              "      border-top-color: var(--fill-color);\n",
              "      border-right-color: var(--fill-color);\n",
              "    }\n",
              "    40% {\n",
              "      border-color: transparent;\n",
              "      border-right-color: var(--fill-color);\n",
              "      border-top-color: var(--fill-color);\n",
              "    }\n",
              "    60% {\n",
              "      border-color: transparent;\n",
              "      border-right-color: var(--fill-color);\n",
              "    }\n",
              "    80% {\n",
              "      border-color: transparent;\n",
              "      border-right-color: var(--fill-color);\n",
              "      border-bottom-color: var(--fill-color);\n",
              "    }\n",
              "    90% {\n",
              "      border-color: transparent;\n",
              "      border-bottom-color: var(--fill-color);\n",
              "    }\n",
              "  }\n",
              "</style>\n",
              "\n",
              "  <script>\n",
              "    async function quickchart(key) {\n",
              "      const quickchartButtonEl =\n",
              "        document.querySelector('#' + key + ' button');\n",
              "      quickchartButtonEl.disabled = true;  // To prevent multiple clicks.\n",
              "      quickchartButtonEl.classList.add('colab-df-spinner');\n",
              "      try {\n",
              "        const charts = await google.colab.kernel.invokeFunction(\n",
              "            'suggestCharts', [key], {});\n",
              "      } catch (error) {\n",
              "        console.error('Error during call to suggestCharts:', error);\n",
              "      }\n",
              "      quickchartButtonEl.classList.remove('colab-df-spinner');\n",
              "      quickchartButtonEl.classList.add('colab-df-quickchart-complete');\n",
              "    }\n",
              "    (() => {\n",
              "      let quickchartButtonEl =\n",
              "        document.querySelector('#df-3175b761-2663-4312-8ed8-4420ab042c70 button');\n",
              "      quickchartButtonEl.style.display =\n",
              "        google.colab.kernel.accessAllowed ? 'block' : 'none';\n",
              "    })();\n",
              "  </script>\n",
              "</div>\n",
              "\n",
              "    </div>\n",
              "  </div>\n"
            ],
            "application/vnd.google.colaboratory.intrinsic+json": {
              "type": "dataframe"
            }
          },
          "metadata": {},
          "execution_count": 41
        }
      ]
    },
    {
      "cell_type": "markdown",
      "source": [
        "# Processamento dos dados"
      ],
      "metadata": {
        "id": "3YkCsDnD9fAS"
      }
    },
    {
      "cell_type": "code",
      "source": [
        "qtde_bens = len(base_elog.index)\n",
        "\n",
        "#contar a quantidade de bens\n",
        "print(f'quantidade de bens: {qtde_bens}')\n",
        "\n",
        "#retornar a proporção de valores nulos em cada coluna\n",
        "df_null = base_elog.isnull().sum()/qtde_bens*100\n",
        "df_null.sort_values(ascending=False).head(30)"
      ],
      "metadata": {
        "colab": {
          "base_uri": "https://localhost:8080/",
          "height": 1000
        },
        "id": "Xdnz2WQjmX1K",
        "outputId": "c4381917-71f1-40d0-923c-3d9ec3f871ec"
      },
      "execution_count": 42,
      "outputs": [
        {
          "output_type": "stream",
          "name": "stdout",
          "text": [
            "quantidade de bens: 16809\n"
          ]
        },
        {
          "output_type": "execute_result",
          "data": {
            "text/plain": [
              "padrao de leitura                          100.000000\n",
              "capacidade de tiros                        100.000000\n",
              "bordas                                     100.000000\n",
              "acabamento da estrutura                    100.000000\n",
              "qtd de rodas                               100.000000\n",
              "material do assento e encosto              100.000000\n",
              "observacao bloqueio                        100.000000\n",
              "material revestimento assento e encosto    100.000000\n",
              "portas                                     100.000000\n",
              "qtd de canais                              100.000000\n",
              "qtd de nivel                               100.000000\n",
              "profundidade                               100.000000\n",
              "servidor responsavel                       100.000000\n",
              "tanque                                     100.000000\n",
              "tensao                                     100.000000\n",
              "alcance                                    100.000000\n",
              "data fabricacao                            100.000000\n",
              "carga                                      100.000000\n",
              "volume                                     100.000000\n",
              "contraste                                  100.000000\n",
              "faixa de operacao                          100.000000\n",
              "velocidade                                 100.000000\n",
              "velocidade de varredura                    100.000000\n",
              "carga.1                                    100.000000\n",
              "largura de leitura                         100.000000\n",
              "material da estrutura                      100.000000\n",
              "impedancia                                 100.000000\n",
              "necessita ser substituido                   99.994051\n",
              "numero de portas                            99.994051\n",
              "qtd de gavetas                              99.994051\n",
              "dtype: float64"
            ],
            "text/html": [
              "<div>\n",
              "<style scoped>\n",
              "    .dataframe tbody tr th:only-of-type {\n",
              "        vertical-align: middle;\n",
              "    }\n",
              "\n",
              "    .dataframe tbody tr th {\n",
              "        vertical-align: top;\n",
              "    }\n",
              "\n",
              "    .dataframe thead th {\n",
              "        text-align: right;\n",
              "    }\n",
              "</style>\n",
              "<table border=\"1\" class=\"dataframe\">\n",
              "  <thead>\n",
              "    <tr style=\"text-align: right;\">\n",
              "      <th></th>\n",
              "      <th>0</th>\n",
              "    </tr>\n",
              "  </thead>\n",
              "  <tbody>\n",
              "    <tr>\n",
              "      <th>padrao de leitura</th>\n",
              "      <td>100.000000</td>\n",
              "    </tr>\n",
              "    <tr>\n",
              "      <th>capacidade de tiros</th>\n",
              "      <td>100.000000</td>\n",
              "    </tr>\n",
              "    <tr>\n",
              "      <th>bordas</th>\n",
              "      <td>100.000000</td>\n",
              "    </tr>\n",
              "    <tr>\n",
              "      <th>acabamento da estrutura</th>\n",
              "      <td>100.000000</td>\n",
              "    </tr>\n",
              "    <tr>\n",
              "      <th>qtd de rodas</th>\n",
              "      <td>100.000000</td>\n",
              "    </tr>\n",
              "    <tr>\n",
              "      <th>material do assento e encosto</th>\n",
              "      <td>100.000000</td>\n",
              "    </tr>\n",
              "    <tr>\n",
              "      <th>observacao bloqueio</th>\n",
              "      <td>100.000000</td>\n",
              "    </tr>\n",
              "    <tr>\n",
              "      <th>material revestimento assento e encosto</th>\n",
              "      <td>100.000000</td>\n",
              "    </tr>\n",
              "    <tr>\n",
              "      <th>portas</th>\n",
              "      <td>100.000000</td>\n",
              "    </tr>\n",
              "    <tr>\n",
              "      <th>qtd de canais</th>\n",
              "      <td>100.000000</td>\n",
              "    </tr>\n",
              "    <tr>\n",
              "      <th>qtd de nivel</th>\n",
              "      <td>100.000000</td>\n",
              "    </tr>\n",
              "    <tr>\n",
              "      <th>profundidade</th>\n",
              "      <td>100.000000</td>\n",
              "    </tr>\n",
              "    <tr>\n",
              "      <th>servidor responsavel</th>\n",
              "      <td>100.000000</td>\n",
              "    </tr>\n",
              "    <tr>\n",
              "      <th>tanque</th>\n",
              "      <td>100.000000</td>\n",
              "    </tr>\n",
              "    <tr>\n",
              "      <th>tensao</th>\n",
              "      <td>100.000000</td>\n",
              "    </tr>\n",
              "    <tr>\n",
              "      <th>alcance</th>\n",
              "      <td>100.000000</td>\n",
              "    </tr>\n",
              "    <tr>\n",
              "      <th>data fabricacao</th>\n",
              "      <td>100.000000</td>\n",
              "    </tr>\n",
              "    <tr>\n",
              "      <th>carga</th>\n",
              "      <td>100.000000</td>\n",
              "    </tr>\n",
              "    <tr>\n",
              "      <th>volume</th>\n",
              "      <td>100.000000</td>\n",
              "    </tr>\n",
              "    <tr>\n",
              "      <th>contraste</th>\n",
              "      <td>100.000000</td>\n",
              "    </tr>\n",
              "    <tr>\n",
              "      <th>faixa de operacao</th>\n",
              "      <td>100.000000</td>\n",
              "    </tr>\n",
              "    <tr>\n",
              "      <th>velocidade</th>\n",
              "      <td>100.000000</td>\n",
              "    </tr>\n",
              "    <tr>\n",
              "      <th>velocidade de varredura</th>\n",
              "      <td>100.000000</td>\n",
              "    </tr>\n",
              "    <tr>\n",
              "      <th>carga.1</th>\n",
              "      <td>100.000000</td>\n",
              "    </tr>\n",
              "    <tr>\n",
              "      <th>largura de leitura</th>\n",
              "      <td>100.000000</td>\n",
              "    </tr>\n",
              "    <tr>\n",
              "      <th>material da estrutura</th>\n",
              "      <td>100.000000</td>\n",
              "    </tr>\n",
              "    <tr>\n",
              "      <th>impedancia</th>\n",
              "      <td>100.000000</td>\n",
              "    </tr>\n",
              "    <tr>\n",
              "      <th>necessita ser substituido</th>\n",
              "      <td>99.994051</td>\n",
              "    </tr>\n",
              "    <tr>\n",
              "      <th>numero de portas</th>\n",
              "      <td>99.994051</td>\n",
              "    </tr>\n",
              "    <tr>\n",
              "      <th>qtd de gavetas</th>\n",
              "      <td>99.994051</td>\n",
              "    </tr>\n",
              "  </tbody>\n",
              "</table>\n",
              "</div><br><label><b>dtype:</b> float64</label>"
            ]
          },
          "metadata": {},
          "execution_count": 42
        }
      ]
    },
    {
      "cell_type": "code",
      "source": [
        "#colunas no arquivo original\n",
        "qtde_colunas_antes = len(base_elog.columns)\n",
        "print(f'quantidade de colunas antes: {qtde_colunas_antes}')\n",
        "\n",
        "base_elog.columns.values"
      ],
      "metadata": {
        "colab": {
          "base_uri": "https://localhost:8080/"
        },
        "id": "oxxizM0_5hdx",
        "outputId": "d30476b8-f67d-4ada-9234-4aaa6b03c37e"
      },
      "execution_count": 43,
      "outputs": [
        {
          "output_type": "stream",
          "name": "stdout",
          "text": [
            "quantidade de colunas antes: 137\n"
          ]
        },
        {
          "output_type": "execute_result",
          "data": {
            "text/plain": [
              "array(['unidade responsavel material', 'codigo', 'grupo de material',\n",
              "       'codigo material', 'subgrupo de material', 'num tombamento',\n",
              "       'acautelado para', 'matricula detentor', 'validado eletron',\n",
              "       'data assinatura', 'lotacao detentor', 'data acautelamento',\n",
              "       'data cadastro', 'denominacao', 'especificacao', 'marca',\n",
              "       'observacao', 'anulado', 'estado bem', 'status', 'bem terceiros',\n",
              "       'data balanco', 'data inicio uso', 'ano balanco', 'garantia',\n",
              "       'data fabricacao', 'data validade', 'localidade',\n",
              "       'ultimo levantamento', 'unidade tombamento', 'valor',\n",
              "       'valor entrada', 'valor acumulado', 'depreciavel',\n",
              "       'valor depreciacao acumulada', 'data ultimo ajuste', 'vida util',\n",
              "       'vida util base depreciacao', 'data ultimo ajuste depreciacao',\n",
              "       'tipo bloqueio', 'observacao bloqueio', 'matriz', 'qtd de rodas',\n",
              "       'acabamento da estrutura', 'ano de fabricacao', 'ano do modelo',\n",
              "       'aplicacao', 'bordas', 'calibre', 'carga', 'data de validade',\n",
              "       'genero', 'imei',\n",
              "       'lote  numeros e letras sem espacos e caracteres especiais ',\n",
              "       'marca.1', 'marca1', 'material', 'material do assento e encosto',\n",
              "       'material revestimento assento e encosto',\n",
              "       'memoria de armazenamento', 'modelo', 'modelo  ', 'modelo    ',\n",
              "       'modelo1', 'necessita ser substituido', 'nivel de protecao',\n",
              "       'n de serie', 'numero de chassis', 'numero de raias',\n",
              "       'numero de serie', 'numero de serie  ', 'num serie  chassis',\n",
              "       'ostensivo', 'placa', 'profundidade', 'qtd de gavetas',\n",
              "       'qtd de passageiros', 'qtd de portas', 'renavam',\n",
              "       'sentido das raias', 'servidor responsavel', 'tamanho  novo ',\n",
              "       'tipo de veiculo', 'tipo do monitor', 'tombo antigo',\n",
              "       'tombo antigo.1', 'alcance', 'aplicacao.1', 'blindagem',\n",
              "       'calibre.1', 'capacidade', 'capacidade de tiros', 'carga.1',\n",
              "       'combustivel', 'contraste', 'cor', 'cor predominante', 'dimensao',\n",
              "       'espaco disco rigido', 'faixa de operacao', 'frequencia',\n",
              "       'heavy duty', 'impedancia', 'interface', 'largura de leitura',\n",
              "       'material.1', 'material da estrutura', 'meio de aquisicao',\n",
              "       'modelo.1', 'numero de portas', 'padrao de leitura', 'peso',\n",
              "       'placa oficial', 'placa vinculada', 'polegadas', 'portas',\n",
              "       'potencia', 'potencia  cv ', 'qtd de canais', 'qtd de nivel',\n",
              "       'qtd memoria ram', 'resolucao', 'revestimento', 'tamanho da tela',\n",
              "       'tanque', 'taxa de transferencia', 'tensao',\n",
              "       'tensao de alimentacao', 'tipo', 'tipo de identificacao',\n",
              "       'tipo de propriedade', 'velocidade', 'velocidade de varredura',\n",
              "       'voltagem', 'volume', 'zoom otico', 'index'], dtype=object)"
            ]
          },
          "metadata": {},
          "execution_count": 43
        }
      ]
    },
    {
      "cell_type": "code",
      "source": [
        "#excluir colunas com 100% de valores nulos\n",
        "base_elog = base_elog.dropna(axis=1, how='all')\n",
        "df_null = base_elog.isnull().sum()/qtde_bens*100\n",
        "df_null.sort_values(ascending=False).head(30)\n"
      ],
      "metadata": {
        "colab": {
          "base_uri": "https://localhost:8080/",
          "height": 1000
        },
        "id": "4JV7BbFjwjGE",
        "outputId": "a9381b2a-bca8-47bc-d1e4-29bb178d60a9"
      },
      "execution_count": 44,
      "outputs": [
        {
          "output_type": "execute_result",
          "data": {
            "text/plain": [
              "heavy duty                                                    99.994051\n",
              "numero de portas                                              99.994051\n",
              "zoom otico                                                    99.994051\n",
              "necessita ser substituido                                     99.994051\n",
              "taxa de transferencia                                         99.994051\n",
              "qtd de gavetas                                                99.994051\n",
              "placa                                                         99.994051\n",
              "placa vinculada                                               99.994051\n",
              "peso                                                          99.994051\n",
              "tamanho  novo                                                 99.988102\n",
              "nivel de protecao                                             99.988102\n",
              "data de validade                                              99.988102\n",
              "genero                                                        99.988102\n",
              "lote  numeros e letras sem espacos e caracteres especiais     99.988102\n",
              "qtd de portas                                                 99.982152\n",
              "potencia                                                      99.982152\n",
              "memoria de armazenamento                                      99.982152\n",
              "data validade                                                 99.976203\n",
              "material.1                                                    99.958356\n",
              "ostensivo                                                     99.958356\n",
              "material                                                      99.958356\n",
              "blindagem                                                     99.958356\n",
              "meio de aquisicao                                             99.958356\n",
              "numero de raias                                               99.952406\n",
              "sentido das raias                                             99.946457\n",
              "imei                                                          99.946457\n",
              "tombo antigo                                                  99.946457\n",
              "cor predominante                                              99.940508\n",
              "ano do modelo                                                 99.940508\n",
              "tipo do monitor                                               99.940508\n",
              "dtype: float64"
            ],
            "text/html": [
              "<div>\n",
              "<style scoped>\n",
              "    .dataframe tbody tr th:only-of-type {\n",
              "        vertical-align: middle;\n",
              "    }\n",
              "\n",
              "    .dataframe tbody tr th {\n",
              "        vertical-align: top;\n",
              "    }\n",
              "\n",
              "    .dataframe thead th {\n",
              "        text-align: right;\n",
              "    }\n",
              "</style>\n",
              "<table border=\"1\" class=\"dataframe\">\n",
              "  <thead>\n",
              "    <tr style=\"text-align: right;\">\n",
              "      <th></th>\n",
              "      <th>0</th>\n",
              "    </tr>\n",
              "  </thead>\n",
              "  <tbody>\n",
              "    <tr>\n",
              "      <th>heavy duty</th>\n",
              "      <td>99.994051</td>\n",
              "    </tr>\n",
              "    <tr>\n",
              "      <th>numero de portas</th>\n",
              "      <td>99.994051</td>\n",
              "    </tr>\n",
              "    <tr>\n",
              "      <th>zoom otico</th>\n",
              "      <td>99.994051</td>\n",
              "    </tr>\n",
              "    <tr>\n",
              "      <th>necessita ser substituido</th>\n",
              "      <td>99.994051</td>\n",
              "    </tr>\n",
              "    <tr>\n",
              "      <th>taxa de transferencia</th>\n",
              "      <td>99.994051</td>\n",
              "    </tr>\n",
              "    <tr>\n",
              "      <th>qtd de gavetas</th>\n",
              "      <td>99.994051</td>\n",
              "    </tr>\n",
              "    <tr>\n",
              "      <th>placa</th>\n",
              "      <td>99.994051</td>\n",
              "    </tr>\n",
              "    <tr>\n",
              "      <th>placa vinculada</th>\n",
              "      <td>99.994051</td>\n",
              "    </tr>\n",
              "    <tr>\n",
              "      <th>peso</th>\n",
              "      <td>99.994051</td>\n",
              "    </tr>\n",
              "    <tr>\n",
              "      <th>tamanho  novo</th>\n",
              "      <td>99.988102</td>\n",
              "    </tr>\n",
              "    <tr>\n",
              "      <th>nivel de protecao</th>\n",
              "      <td>99.988102</td>\n",
              "    </tr>\n",
              "    <tr>\n",
              "      <th>data de validade</th>\n",
              "      <td>99.988102</td>\n",
              "    </tr>\n",
              "    <tr>\n",
              "      <th>genero</th>\n",
              "      <td>99.988102</td>\n",
              "    </tr>\n",
              "    <tr>\n",
              "      <th>lote  numeros e letras sem espacos e caracteres especiais</th>\n",
              "      <td>99.988102</td>\n",
              "    </tr>\n",
              "    <tr>\n",
              "      <th>qtd de portas</th>\n",
              "      <td>99.982152</td>\n",
              "    </tr>\n",
              "    <tr>\n",
              "      <th>potencia</th>\n",
              "      <td>99.982152</td>\n",
              "    </tr>\n",
              "    <tr>\n",
              "      <th>memoria de armazenamento</th>\n",
              "      <td>99.982152</td>\n",
              "    </tr>\n",
              "    <tr>\n",
              "      <th>data validade</th>\n",
              "      <td>99.976203</td>\n",
              "    </tr>\n",
              "    <tr>\n",
              "      <th>material.1</th>\n",
              "      <td>99.958356</td>\n",
              "    </tr>\n",
              "    <tr>\n",
              "      <th>ostensivo</th>\n",
              "      <td>99.958356</td>\n",
              "    </tr>\n",
              "    <tr>\n",
              "      <th>material</th>\n",
              "      <td>99.958356</td>\n",
              "    </tr>\n",
              "    <tr>\n",
              "      <th>blindagem</th>\n",
              "      <td>99.958356</td>\n",
              "    </tr>\n",
              "    <tr>\n",
              "      <th>meio de aquisicao</th>\n",
              "      <td>99.958356</td>\n",
              "    </tr>\n",
              "    <tr>\n",
              "      <th>numero de raias</th>\n",
              "      <td>99.952406</td>\n",
              "    </tr>\n",
              "    <tr>\n",
              "      <th>sentido das raias</th>\n",
              "      <td>99.946457</td>\n",
              "    </tr>\n",
              "    <tr>\n",
              "      <th>imei</th>\n",
              "      <td>99.946457</td>\n",
              "    </tr>\n",
              "    <tr>\n",
              "      <th>tombo antigo</th>\n",
              "      <td>99.946457</td>\n",
              "    </tr>\n",
              "    <tr>\n",
              "      <th>cor predominante</th>\n",
              "      <td>99.940508</td>\n",
              "    </tr>\n",
              "    <tr>\n",
              "      <th>ano do modelo</th>\n",
              "      <td>99.940508</td>\n",
              "    </tr>\n",
              "    <tr>\n",
              "      <th>tipo do monitor</th>\n",
              "      <td>99.940508</td>\n",
              "    </tr>\n",
              "  </tbody>\n",
              "</table>\n",
              "</div><br><label><b>dtype:</b> float64</label>"
            ]
          },
          "metadata": {},
          "execution_count": 44
        }
      ]
    },
    {
      "cell_type": "code",
      "source": [
        "#checar se colunas de números de série existem na planilha\n",
        "cols_to_check = ['imei','n de serie', 'numero de serie',\n",
        "       'numero de serie  ', 'num serie', 'placa', 'placa  ', 'placa vinculada', 'placa oficial']\n",
        "\n",
        "existing_serie_cols = [col for col in cols_to_check if col in base_elog.columns]\n",
        "\n",
        "print(existing_serie_cols)\n",
        "\n",
        "#checar se colunas de modelo existem na planilha\n",
        "cols_to_check = ['modelo', 'modelo  ', 'modelo    ', 'modelo1', 'modelo.1']\n",
        "\n",
        "existing_modelo_cols = [col for col in cols_to_check if col in base_elog.columns]\n",
        "\n",
        "print(existing_modelo_cols)\n",
        "\n",
        "# checar se colunas de marca existem na planilha\n",
        "cols_to_check = ['marca','marca.1', 'marca1']\n",
        "\n",
        "existing_marca_cols = [col for col in cols_to_check if col in base_elog.columns]\n",
        "\n",
        "print(existing_marca_cols)\n",
        "\n",
        "\n",
        "#checar se colunas de tombo antigo existem na planilha\n",
        "cols_to_check = ['tombo antigo', 'tombo antigo.1']\n",
        "\n",
        "existing_tombo_antigo_cols = [col for col in cols_to_check if col in base_elog.columns]\n",
        "\n",
        "print(existing_tombo_antigo_cols)\n",
        "\n",
        "\n",
        "# checar se colunas de especificações na planilha\n",
        "cols_to_check = ['nivel de protecao da placa',\n",
        "       'qtd de rodas', 'acabamento da estrutura', 'altura',\n",
        "       'ano de fabricacao', 'ano do modelo', 'aplicacao', 'bordas',\n",
        "       'calibre', 'carga', 'data de validade', 'destino', 'genero','largura',\n",
        "       'lote  numeros e letras sem espacos e caracteres especiais ',\n",
        "        'material', 'material do assento e encosto',\n",
        "       'material revestimento assento e encosto',\n",
        "       'memoria de armazenamento', 'necessita ser substituido', 'nivel de protecao',\n",
        "       'numero de chassis', 'numero de raias'\n",
        "       ,'num serie  chassis', 'ostensivo',\n",
        "       'profundidade', 'qtd de passageiros', 'qtd de portas', 'renavam',\n",
        "       'sentido das raias', 'servidor responsavel', 'tamanho  novo ',\n",
        "       'tipo de veiculo', 'tipo do monitor', 'alcance', 'ano de fabricacao.1', 'aplicacao.1',\n",
        "       'blindagem', 'calibre.1', 'capacidade', 'capacidade de tiros',\n",
        "       'carga.1', 'classe', 'combustivel', 'compartimento cela',\n",
        "       'contraste', 'cor', 'cor predominante', 'dimensao',\n",
        "       'espaco disco rigido', 'faixa de operacao', 'frequencia',\n",
        "       'heavy duty', 'impedancia', 'interface', 'largura de leitura',\n",
        "       'material.1', 'material da estrutura', 'meio de aquisicao',\n",
        "       'numero de portas', 'padrao de leitura', 'peso',\n",
        "       'polegadas', 'portas',\n",
        "       'potencia', 'potencia  cv ', 'qtd de canais', 'qtd de nivel',\n",
        "       'qtd memoria ram', 'resolucao', 'revestimento', 'tamanho da tela',\n",
        "       'tanque', 'taxa de transferencia', 'tensao',\n",
        "       'tensao de alimentacao', 'tipo', 'tipo de identificacao',\n",
        "       'tipo de propriedade', 'velocidade', 'velocidade de varredura',\n",
        "       'voltagem', 'volume', 'zoom otico']\n",
        "\n",
        "existing_especificacoes_cols = [col for col in cols_to_check if col in base_elog.columns]\n",
        "\n",
        "print(existing_especificacoes_cols)"
      ],
      "metadata": {
        "colab": {
          "base_uri": "https://localhost:8080/"
        },
        "id": "oQjQNFAQH9Yq",
        "outputId": "27c52ad3-9c1f-4655-9b98-8e061eb2e9db"
      },
      "execution_count": 45,
      "outputs": [
        {
          "output_type": "stream",
          "name": "stdout",
          "text": [
            "['imei', 'n de serie', 'numero de serie', 'numero de serie  ', 'placa', 'placa vinculada', 'placa oficial']\n",
            "['modelo', 'modelo  ', 'modelo    ', 'modelo1', 'modelo.1']\n",
            "['marca', 'marca.1', 'marca1']\n",
            "['tombo antigo', 'tombo antigo.1']\n",
            "['ano de fabricacao', 'ano do modelo', 'aplicacao', 'calibre', 'data de validade', 'genero', 'lote  numeros e letras sem espacos e caracteres especiais ', 'material', 'memoria de armazenamento', 'necessita ser substituido', 'nivel de protecao', 'numero de chassis', 'numero de raias', 'num serie  chassis', 'ostensivo', 'qtd de passageiros', 'qtd de portas', 'renavam', 'sentido das raias', 'tamanho  novo ', 'tipo de veiculo', 'tipo do monitor', 'aplicacao.1', 'blindagem', 'calibre.1', 'capacidade', 'combustivel', 'cor', 'cor predominante', 'dimensao', 'espaco disco rigido', 'frequencia', 'heavy duty', 'interface', 'material.1', 'meio de aquisicao', 'numero de portas', 'peso', 'polegadas', 'potencia', 'potencia  cv ', 'qtd memoria ram', 'resolucao', 'revestimento', 'tamanho da tela', 'taxa de transferencia', 'tensao de alimentacao', 'tipo', 'tipo de identificacao', 'tipo de propriedade', 'voltagem', 'zoom otico']\n"
          ]
        }
      ]
    },
    {
      "cell_type": "code",
      "source": [
        "# criar coluna de serie que compilará os demais números de série\n",
        "base_elog['serie_total'] = None\n",
        "base_elog['modelo_total'] = None\n",
        "base_elog['especificacoes'] = None\n",
        "base_elog['tombo_antigo'] = None\n",
        "base_elog['marca_total'] = None\n",
        "\n",
        "\n",
        "lista_colunas_exibir = ['denominacao','serie_total', 'modelo_total', 'especificacoes', 'tombo_antigo', 'marca_total']\n",
        "#lista_colunas_exibir.extend(existing_serie_cols)\n",
        "#lista_colunas_exibir.extend(existing_modelo_cols)\n"
      ],
      "metadata": {
        "id": "ARSZwMCC1Q0c",
        "colab": {
          "base_uri": "https://localhost:8080/"
        },
        "outputId": "dd5a9d14-2ef1-4bda-d6b7-13a2ecefea40"
      },
      "execution_count": 46,
      "outputs": [
        {
          "output_type": "stream",
          "name": "stderr",
          "text": [
            "<ipython-input-46-a8433383fbbc>:2: SettingWithCopyWarning: \n",
            "A value is trying to be set on a copy of a slice from a DataFrame.\n",
            "Try using .loc[row_indexer,col_indexer] = value instead\n",
            "\n",
            "See the caveats in the documentation: https://pandas.pydata.org/pandas-docs/stable/user_guide/indexing.html#returning-a-view-versus-a-copy\n",
            "  base_elog['serie_total'] = None\n",
            "<ipython-input-46-a8433383fbbc>:3: SettingWithCopyWarning: \n",
            "A value is trying to be set on a copy of a slice from a DataFrame.\n",
            "Try using .loc[row_indexer,col_indexer] = value instead\n",
            "\n",
            "See the caveats in the documentation: https://pandas.pydata.org/pandas-docs/stable/user_guide/indexing.html#returning-a-view-versus-a-copy\n",
            "  base_elog['modelo_total'] = None\n",
            "<ipython-input-46-a8433383fbbc>:4: SettingWithCopyWarning: \n",
            "A value is trying to be set on a copy of a slice from a DataFrame.\n",
            "Try using .loc[row_indexer,col_indexer] = value instead\n",
            "\n",
            "See the caveats in the documentation: https://pandas.pydata.org/pandas-docs/stable/user_guide/indexing.html#returning-a-view-versus-a-copy\n",
            "  base_elog['especificacoes'] = None\n",
            "<ipython-input-46-a8433383fbbc>:5: SettingWithCopyWarning: \n",
            "A value is trying to be set on a copy of a slice from a DataFrame.\n",
            "Try using .loc[row_indexer,col_indexer] = value instead\n",
            "\n",
            "See the caveats in the documentation: https://pandas.pydata.org/pandas-docs/stable/user_guide/indexing.html#returning-a-view-versus-a-copy\n",
            "  base_elog['tombo_antigo'] = None\n",
            "<ipython-input-46-a8433383fbbc>:6: SettingWithCopyWarning: \n",
            "A value is trying to be set on a copy of a slice from a DataFrame.\n",
            "Try using .loc[row_indexer,col_indexer] = value instead\n",
            "\n",
            "See the caveats in the documentation: https://pandas.pydata.org/pandas-docs/stable/user_guide/indexing.html#returning-a-view-versus-a-copy\n",
            "  base_elog['marca_total'] = None\n"
          ]
        }
      ]
    },
    {
      "cell_type": "code",
      "source": [
        "#define as funções\n",
        "def create_especificacoes(row):\n",
        "    especificacoes = {}\n",
        "    for col in existing_especificacoes_cols:\n",
        "        if col in row and not pd.isna(row[col]):\n",
        "            especificacoes[col] = row[col]\n",
        "    return especificacoes\n",
        "\n",
        "def compile_series(row, existing_serie_cols):\n",
        "    lista_numero_series = []\n",
        "    for col in existing_serie_cols:\n",
        "        value = row[col]\n",
        "        if not pd.isna(value) and value not in [\"\", \".\", \"...\"]:\n",
        "            lista_numero_series.append(str(value).strip())\n",
        "\n",
        "    lista_numero_series = list(set(lista_numero_series))\n",
        "    return ', '.join(lista_numero_series)\n",
        "\n",
        "def compile_modelo(row, existing_modelo_cols):\n",
        "    lista_modelo = []\n",
        "    for col in existing_modelo_cols:\n",
        "        value = row[col]\n",
        "        if not pd.isna(value) and value not in [\"\", \".\", \"...\"]:\n",
        "            lista_modelo.append(str(value).strip())\n",
        "\n",
        "    lista_modelo = list(set(lista_modelo))\n",
        "    return ', '.join(lista_modelo)\n",
        "\n",
        "def compile_marca(row, existing_marca_cols):\n",
        "    lista_marca = []\n",
        "    for col in existing_marca_cols:\n",
        "        value = row[col]\n",
        "        if not pd.isna(value) and value not in [\"\", \".\", \"...\"]:\n",
        "            lista_marca.append(str(value).strip())\n",
        "\n",
        "    lista_marca = list(set(lista_marca))\n",
        "    return ', '.join(lista_marca)\n",
        "\n",
        "def compile_tombo_antigo(row, existing_tombo_antigo_cols):\n",
        "    lista_tombo_antigo = []\n",
        "    for col in existing_tombo_antigo_cols:\n",
        "        value = row[col]\n",
        "        if not pd.isna(value) and value not in [\"\", \".\", \"...\"]:\n",
        "            for char in str(value):\n",
        "                value = str(value).lstrip('P')\n",
        "                value = str(value).lstrip('0')\n",
        "            lista_tombo_antigo.append(str(value).strip())\n",
        "\n",
        "    lista_tombo_antigo = list(set(lista_tombo_antigo))\n",
        "    return ', '.join(lista_tombo_antigo)\n",
        "\n",
        "#chamar as funções\n",
        "base_elog['especificacoes'] = base_elog.apply(create_especificacoes, axis=1)\n",
        "base_elog['serie_total'] = base_elog.apply(compile_series, axis=1, args=(existing_serie_cols,))\n",
        "base_elog['modelo_total'] = base_elog.apply(compile_modelo, axis=1, args=(existing_modelo_cols,))\n",
        "base_elog['marca_total'] = base_elog.apply(compile_marca, axis=1, args=(existing_marca_cols,))\n",
        "base_elog['tombo_antigo'] = base_elog[existing_tombo_antigo_cols].apply(compile_tombo_antigo, axis=1, args=(existing_tombo_antigo_cols,))\n"
      ],
      "metadata": {
        "id": "xgH2zWjphFw6"
      },
      "execution_count": 47,
      "outputs": []
    },
    {
      "cell_type": "code",
      "source": [
        "#chama as funções\n",
        "base_elog.drop(columns=existing_tombo_antigo_cols, inplace=True)\n",
        "base_elog.drop(columns=existing_modelo_cols, inplace=True)\n",
        "base_elog.drop(columns=existing_serie_cols, inplace=True)\n",
        "base_elog.drop(columns=existing_marca_cols, inplace=True)\n",
        "base_elog.drop(columns=existing_especificacoes_cols, inplace=True)\n"
      ],
      "metadata": {
        "id": "gOMxczhFLDJj"
      },
      "execution_count": 48,
      "outputs": []
    },
    {
      "cell_type": "code",
      "source": [
        "# dividir a célula e retornar a última parte após '-' para retitrar a sigla\n",
        "base_elog['sigla'] = base_elog['unidade responsavel material'].apply(lambda x: x.split('-')[-1])\n"
      ],
      "metadata": {
        "id": "t0y6ypXLyflB"
      },
      "execution_count": 49,
      "outputs": []
    },
    {
      "cell_type": "code",
      "source": [
        "#colunas no arquivo final\n",
        "base_elog.columns"
      ],
      "metadata": {
        "colab": {
          "base_uri": "https://localhost:8080/"
        },
        "id": "1uTg7PQ-r1xI",
        "outputId": "068364dc-f62e-4b0d-8133-65f8ea92acda"
      },
      "execution_count": 50,
      "outputs": [
        {
          "output_type": "execute_result",
          "data": {
            "text/plain": [
              "Index(['unidade responsavel material', 'codigo', 'grupo de material',\n",
              "       'codigo material', 'subgrupo de material', 'num tombamento',\n",
              "       'acautelado para', 'matricula detentor', 'validado eletron',\n",
              "       'data assinatura', 'lotacao detentor', 'data acautelamento',\n",
              "       'data cadastro', 'denominacao', 'especificacao', 'observacao',\n",
              "       'anulado', 'estado bem', 'status', 'bem terceiros', 'data balanco',\n",
              "       'data inicio uso', 'ano balanco', 'garantia', 'data validade',\n",
              "       'localidade', 'ultimo levantamento', 'unidade tombamento', 'valor',\n",
              "       'valor entrada', 'valor acumulado', 'depreciavel',\n",
              "       'valor depreciacao acumulada', 'data ultimo ajuste', 'vida util',\n",
              "       'vida util base depreciacao', 'data ultimo ajuste depreciacao',\n",
              "       'tipo bloqueio', 'matriz', 'qtd de gavetas', 'index', 'serie_total',\n",
              "       'modelo_total', 'especificacoes', 'tombo_antigo', 'marca_total',\n",
              "       'sigla'],\n",
              "      dtype='object')"
            ]
          },
          "metadata": {},
          "execution_count": 50
        }
      ]
    },
    {
      "cell_type": "markdown",
      "source": [
        "## Reorganizar as colunas"
      ],
      "metadata": {
        "id": "9nY3mtRI9G7b"
      }
    },
    {
      "cell_type": "code",
      "source": [
        "#trazer o tombo novo para a 1ª coluna (para o PROCV do excel)\n",
        "\n",
        "base_elog = base_elog.reindex(columns=['num tombamento'] + [col for col in base_elog.columns if col != 'num tombamento'])\n",
        "\n",
        "base_elog.columns\n",
        "\n"
      ],
      "metadata": {
        "colab": {
          "base_uri": "https://localhost:8080/"
        },
        "id": "rMUPXbNp7V4L",
        "outputId": "ba49900b-efaf-4b4b-c7bb-79c6124bdd78"
      },
      "execution_count": 51,
      "outputs": [
        {
          "output_type": "execute_result",
          "data": {
            "text/plain": [
              "Index(['num tombamento', 'unidade responsavel material', 'codigo',\n",
              "       'grupo de material', 'codigo material', 'subgrupo de material',\n",
              "       'acautelado para', 'matricula detentor', 'validado eletron',\n",
              "       'data assinatura', 'lotacao detentor', 'data acautelamento',\n",
              "       'data cadastro', 'denominacao', 'especificacao', 'observacao',\n",
              "       'anulado', 'estado bem', 'status', 'bem terceiros', 'data balanco',\n",
              "       'data inicio uso', 'ano balanco', 'garantia', 'data validade',\n",
              "       'localidade', 'ultimo levantamento', 'unidade tombamento', 'valor',\n",
              "       'valor entrada', 'valor acumulado', 'depreciavel',\n",
              "       'valor depreciacao acumulada', 'data ultimo ajuste', 'vida util',\n",
              "       'vida util base depreciacao', 'data ultimo ajuste depreciacao',\n",
              "       'tipo bloqueio', 'matriz', 'qtd de gavetas', 'index', 'serie_total',\n",
              "       'modelo_total', 'especificacoes', 'tombo_antigo', 'marca_total',\n",
              "       'sigla'],\n",
              "      dtype='object')"
            ]
          },
          "metadata": {},
          "execution_count": 51
        }
      ]
    },
    {
      "cell_type": "code",
      "source": [],
      "metadata": {
        "id": "oQRhREUa9Qsa"
      },
      "execution_count": 51,
      "outputs": []
    },
    {
      "cell_type": "markdown",
      "source": [
        "## Corrigir o tipo de colunas\n",
        "\n"
      ],
      "metadata": {
        "id": "IBCvcNxjt4hc"
      }
    },
    {
      "cell_type": "code",
      "source": [
        "#transformar colunas em Object\n",
        "base_elog[['codigo', 'codigo material']] = base_elog[['codigo', 'codigo material']].astype(str)\n"
      ],
      "metadata": {
        "id": "o1ODr9V9uUbO"
      },
      "execution_count": 52,
      "outputs": []
    },
    {
      "cell_type": "code",
      "source": [
        "\"\"\"# função para substituir \".\" por \"\" e \",\" por \".\"\n",
        "def repor_virgula_por_ponto(valor):\n",
        "   if isinstance(valor, str):\n",
        "    novo_valor = valor.replace('.', '').replace(',', '.')\n",
        "    return novo_valor\n",
        "   else:\n",
        "    return valor\n",
        "\n",
        "\n",
        "# Aplicar a função repor_virgula_por_ponto() a todas as colunas do DataFrame\n",
        "\n",
        "base_elog['valor'].apply(repor_virgula_por_ponto)\n",
        "base_elog['valor entrada'].apply(repor_virgula_por_ponto)\n",
        "base_elog['valor acumulado'].apply(repor_virgula_por_ponto)\n",
        "base_elog['valor depreciacao acumulada'].apply(repor_virgula_por_ponto)\n",
        "base_elog['vida util'].apply(repor_virgula_por_ponto)\n",
        "base_elog['vida util base depreciacao'].apply(repor_virgula_por_ponto)\n",
        "\n",
        "# Alterar texto para número decimal\n",
        "base_elog[['valor','valor entrada','valor acumulado',\n",
        "           'valor depreciacao acumulada', 'vida util',\n",
        "           'vida util base depreciacao']] = base_elog[['valor','valor entrada',\n",
        "                                                       'valor acumulado','valor depreciacao acumulada',\n",
        "                                                       'vida util', 'vida util base depreciacao']].astype(float)\n",
        "\n",
        "\n",
        "base_elog[['valor','valor entrada','valor acumulado','valor depreciacao acumulada',\n",
        "           'data ultimo ajuste',\n",
        "           'vida util',\n",
        "           'vida util base depreciacao']].dtypes\"\"\""
      ],
      "metadata": {
        "colab": {
          "base_uri": "https://localhost:8080/",
          "height": 122
        },
        "id": "CqTZWspmxZz5",
        "outputId": "ebbc468a-a81e-46f9-d7ba-35e37d7302e1"
      },
      "execution_count": 53,
      "outputs": [
        {
          "output_type": "execute_result",
          "data": {
            "text/plain": [
              "'# função para substituir \".\" por \"\" e \",\" por \".\"\\ndef repor_virgula_por_ponto(valor):\\n   if isinstance(valor, str):\\n    novo_valor = valor.replace(\\'.\\', \\'\\').replace(\\',\\', \\'.\\')\\n    return novo_valor\\n   else:\\n    return valor\\n\\n\\n# Aplicar a função repor_virgula_por_ponto() a todas as colunas do DataFrame\\n          \\nbase_elog[\\'valor\\'].apply(repor_virgula_por_ponto)\\nbase_elog[\\'valor entrada\\'].apply(repor_virgula_por_ponto)\\nbase_elog[\\'valor acumulado\\'].apply(repor_virgula_por_ponto)\\nbase_elog[\\'valor depreciacao acumulada\\'].apply(repor_virgula_por_ponto)\\nbase_elog[\\'vida util\\'].apply(repor_virgula_por_ponto)\\nbase_elog[\\'vida util base depreciacao\\'].apply(repor_virgula_por_ponto)\\n\\n# Alterar texto para número decimal\\nbase_elog[[\\'valor\\',\\'valor entrada\\',\\'valor acumulado\\',\\n           \\'valor depreciacao acumulada\\', \\'vida util\\', \\n           \\'vida util base depreciacao\\']] = base_elog[[\\'valor\\',\\'valor entrada\\',\\n                                                       \\'valor acumulado\\',\\'valor depreciacao acumulada\\', \\n                                                       \\'vida util\\', \\'vida util base depreciacao\\']].astype(float)\\n\\n\\nbase_elog[[\\'valor\\',\\'valor entrada\\',\\'valor acumulado\\',\\'valor depreciacao acumulada\\',\\n           \\'data ultimo ajuste\\', \\n           \\'vida util\\', \\n           \\'vida util base depreciacao\\']].dtypes'"
            ],
            "application/vnd.google.colaboratory.intrinsic+json": {
              "type": "string"
            }
          },
          "metadata": {},
          "execution_count": 53
        }
      ]
    },
    {
      "cell_type": "markdown",
      "source": [
        "#Insights estatísticos"
      ],
      "metadata": {
        "id": "TSOATVcgS4Ta"
      }
    },
    {
      "cell_type": "code",
      "source": [
        "bens_por_status = base_elog.groupby('status')['status'].count().sort_values(ascending=False)\n",
        "grafico_ativos = bens_por_status.plot(kind='pie', title = 'Quantidade de bens por Status',\n",
        "                     legend = True,\n",
        "                     #labels = None\n",
        "                      autopct='%1.1f%%'\n",
        "                     )\n",
        "grafico_ativos.legend(loc=\"upper right\")\n",
        "grafico_ativos.plot()\n"
      ],
      "metadata": {
        "colab": {
          "base_uri": "https://localhost:8080/",
          "height": 445
        },
        "id": "z-mu_deOTy7i",
        "outputId": "a0af2a0e-ed7d-445b-9cad-16c48b07452b"
      },
      "execution_count": 54,
      "outputs": [
        {
          "output_type": "execute_result",
          "data": {
            "text/plain": [
              "[]"
            ]
          },
          "metadata": {},
          "execution_count": 54
        },
        {
          "output_type": "display_data",
          "data": {
            "text/plain": [
              "<Figure size 640x480 with 1 Axes>"
            ],
            "image/png": "[encoded data removed]"
          },
          "metadata": {}
        }
      ]
    },
    {
      "cell_type": "code",
      "source": [
        "bens_ativos = base_elog[base_elog.status.isin(['EFETIVADO','ACAUTELADO','BEM NÃO LOCALIZADO'])]\n",
        "bens_ativos.groupby('status')['status'].count().plot(kind='pie',\n",
        "                                                     title = 'Quantidade de bens ativos por Status',\n",
        "                                                     autopct='%1.1f%%');\n"
      ],
      "metadata": {
        "colab": {
          "base_uri": "https://localhost:8080/",
          "height": 428
        },
        "id": "eWm2RAMUTMuM",
        "outputId": "266bb4c4-de75-48d7-a0c3-e2f8b9048cc8"
      },
      "execution_count": 55,
      "outputs": [
        {
          "output_type": "display_data",
          "data": {
            "text/plain": [
              "<Figure size 640x480 with 1 Axes>"
            ],
            "image/png": "[encoded data removed]"
          },
          "metadata": {}
        }
      ]
    },
    {
      "cell_type": "code",
      "source": [
        "bens_por_unidade = bens_ativos.groupby('sigla')['sigla'].count().sort_values(ascending=True)\n",
        "bens_por_unidade.plot(kind='barh', title = 'Quantidade de bens ativos por Unidade');\n"
      ],
      "metadata": {
        "colab": {
          "base_uri": "https://localhost:8080/",
          "height": 452
        },
        "id": "anWPzb5KaG1y",
        "outputId": "a2e733f4-7cc5-4e5e-c90d-17bc324b8d17"
      },
      "execution_count": 56,
      "outputs": [
        {
          "output_type": "display_data",
          "data": {
            "text/plain": [
              "<Figure size 640x480 with 1 Axes>"
            ],
            "image/png": "[encoded data removed]"
          },
          "metadata": {}
        }
      ]
    },
    {
      "cell_type": "markdown",
      "source": [
        "## Proporção de bens acautelados assinados\n"
      ],
      "metadata": {
        "id": "l61OcYcDghTs"
      }
    },
    {
      "cell_type": "code",
      "source": [
        "bens_acautelados = bens_ativos[bens_ativos.status == 'ACAUTELADO']\n",
        "print('Proporção de bens acautelados assinados')\n",
        "bens_acautelados.groupby('validado eletron')['validado eletron'].count().sort_values(ascending=True)\n"
      ],
      "metadata": {
        "colab": {
          "base_uri": "https://localhost:8080/",
          "height": 196
        },
        "id": "-NWGXqZaeZ02",
        "outputId": "550ccb9a-0f63-4a69-f645-6eaa18ca6d17"
      },
      "execution_count": 57,
      "outputs": [
        {
          "output_type": "stream",
          "name": "stdout",
          "text": [
            "Proporção de bens acautelados assinados\n"
          ]
        },
        {
          "output_type": "execute_result",
          "data": {
            "text/plain": [
              "validado eletron\n",
              "NÃO     52\n",
              "SIM    555\n",
              "Name: validado eletron, dtype: int64"
            ],
            "text/html": [
              "<div>\n",
              "<style scoped>\n",
              "    .dataframe tbody tr th:only-of-type {\n",
              "        vertical-align: middle;\n",
              "    }\n",
              "\n",
              "    .dataframe tbody tr th {\n",
              "        vertical-align: top;\n",
              "    }\n",
              "\n",
              "    .dataframe thead th {\n",
              "        text-align: right;\n",
              "    }\n",
              "</style>\n",
              "<table border=\"1\" class=\"dataframe\">\n",
              "  <thead>\n",
              "    <tr style=\"text-align: right;\">\n",
              "      <th></th>\n",
              "      <th>validado eletron</th>\n",
              "    </tr>\n",
              "    <tr>\n",
              "      <th>validado eletron</th>\n",
              "      <th></th>\n",
              "    </tr>\n",
              "  </thead>\n",
              "  <tbody>\n",
              "    <tr>\n",
              "      <th>NÃO</th>\n",
              "      <td>52</td>\n",
              "    </tr>\n",
              "    <tr>\n",
              "      <th>SIM</th>\n",
              "      <td>555</td>\n",
              "    </tr>\n",
              "  </tbody>\n",
              "</table>\n",
              "</div><br><label><b>dtype:</b> int64</label>"
            ]
          },
          "metadata": {},
          "execution_count": 57
        }
      ]
    },
    {
      "cell_type": "markdown",
      "source": [
        "## Quantitativo de Inventariados"
      ],
      "metadata": {
        "id": "UAbnV4uPgjhD"
      }
    },
    {
      "cell_type": "code",
      "source": [
        "# separar os bens inventariados (ultimo levantamento) em 2024\n",
        "bens_ativos['ultimo levantamento'] = bens_ativos['ultimo levantamento'].fillna(\"0000 / 0000\")  # Repor NaN\n",
        "bens_ativos['ano do levantamento'] = bens_ativos['ultimo levantamento'].str.split('/').str[-1].str.strip().astype(int)\n",
        "\n",
        "\n",
        "bens_ativos.groupby('ano do levantamento')['ano do levantamento'].count()#\n",
        "\n",
        "#bens_ativos['ano do levantamento'].plot(kind='bar', x='ano do levantamento', title='Quantidade de bens ativos inventariados por ano');"
      ],
      "metadata": {
        "colab": {
          "base_uri": "https://localhost:8080/",
          "height": 449
        },
        "id": "ALW6e6PDgewq",
        "outputId": "b9bf975e-151f-4bba-aeb7-68bdae6d1c51"
      },
      "execution_count": 58,
      "outputs": [
        {
          "output_type": "stream",
          "name": "stderr",
          "text": [
            "<ipython-input-58-cce4c899f7e1>:2: SettingWithCopyWarning: \n",
            "A value is trying to be set on a copy of a slice from a DataFrame.\n",
            "Try using .loc[row_indexer,col_indexer] = value instead\n",
            "\n",
            "See the caveats in the documentation: https://pandas.pydata.org/pandas-docs/stable/user_guide/indexing.html#returning-a-view-versus-a-copy\n",
            "  bens_ativos['ultimo levantamento'] = bens_ativos['ultimo levantamento'].fillna(\"0000 / 0000\")  # Repor NaN\n",
            "<ipython-input-58-cce4c899f7e1>:3: SettingWithCopyWarning: \n",
            "A value is trying to be set on a copy of a slice from a DataFrame.\n",
            "Try using .loc[row_indexer,col_indexer] = value instead\n",
            "\n",
            "See the caveats in the documentation: https://pandas.pydata.org/pandas-docs/stable/user_guide/indexing.html#returning-a-view-versus-a-copy\n",
            "  bens_ativos['ano do levantamento'] = bens_ativos['ultimo levantamento'].str.split('/').str[-1].str.strip().astype(int)\n"
          ]
        },
        {
          "output_type": "execute_result",
          "data": {
            "text/plain": [
              "ano do levantamento\n",
              "0          32\n",
              "2022        1\n",
              "2023      248\n",
              "2024    10543\n",
              "Name: ano do levantamento, dtype: int64"
            ],
            "text/html": [
              "<div>\n",
              "<style scoped>\n",
              "    .dataframe tbody tr th:only-of-type {\n",
              "        vertical-align: middle;\n",
              "    }\n",
              "\n",
              "    .dataframe tbody tr th {\n",
              "        vertical-align: top;\n",
              "    }\n",
              "\n",
              "    .dataframe thead th {\n",
              "        text-align: right;\n",
              "    }\n",
              "</style>\n",
              "<table border=\"1\" class=\"dataframe\">\n",
              "  <thead>\n",
              "    <tr style=\"text-align: right;\">\n",
              "      <th></th>\n",
              "      <th>ano do levantamento</th>\n",
              "    </tr>\n",
              "    <tr>\n",
              "      <th>ano do levantamento</th>\n",
              "      <th></th>\n",
              "    </tr>\n",
              "  </thead>\n",
              "  <tbody>\n",
              "    <tr>\n",
              "      <th>0</th>\n",
              "      <td>32</td>\n",
              "    </tr>\n",
              "    <tr>\n",
              "      <th>2022</th>\n",
              "      <td>1</td>\n",
              "    </tr>\n",
              "    <tr>\n",
              "      <th>2023</th>\n",
              "      <td>248</td>\n",
              "    </tr>\n",
              "    <tr>\n",
              "      <th>2024</th>\n",
              "      <td>10543</td>\n",
              "    </tr>\n",
              "  </tbody>\n",
              "</table>\n",
              "</div><br><label><b>dtype:</b> int64</label>"
            ]
          },
          "metadata": {},
          "execution_count": 58
        }
      ]
    },
    {
      "cell_type": "code",
      "source": [
        "print(f'    Bens inventariados: {round(len(bens_ativos[bens_ativos[\"ano do levantamento\"] == 2024])/len(bens_ativos)*100,2)}%')\n",
        "print(f'Bens não inventariados: {round(100-len(bens_ativos[bens_ativos[\"ano do levantamento\"] == 2024])/len(bens_ativos)*100,2)}%')\n",
        "print(f'Bens não inventariados: {len(bens_ativos[bens_ativos[\"ano do levantamento\"] != 2024])}')\n"
      ],
      "metadata": {
        "colab": {
          "base_uri": "https://localhost:8080/"
        },
        "id": "BMFCuM3jqsA1",
        "outputId": "8df021fc-8187-41b4-ed52-ee5095e997e5"
      },
      "execution_count": 59,
      "outputs": [
        {
          "output_type": "stream",
          "name": "stdout",
          "text": [
            "    Bens inventariados: 97.4%\n",
            "Bens não inventariados: 2.6%\n",
            "Bens não inventariados: 281\n"
          ]
        }
      ]
    },
    {
      "cell_type": "code",
      "source": [
        "# gráfico de histograma com data de cadastro\n",
        "#base_elog.groupby('data cadastro')['data cadastro'].count().plot(kind='kde', title='Quantidade de entrada de bens por ano');"
      ],
      "metadata": {
        "id": "_3QOVXhxmOyO"
      },
      "execution_count": 60,
      "outputs": []
    },
    {
      "cell_type": "markdown",
      "source": [
        "## Comparativo de quantidade de colunas"
      ],
      "metadata": {
        "id": "Xf6xmvCl9n5P"
      }
    },
    {
      "cell_type": "code",
      "source": [
        "qtde_colunas_depois = len(base_elog.columns)\n",
        "print(f'quantidade de colunas depois: {qtde_colunas_depois}')\n",
        "print(f'quantidade de colunas excluídas: {qtde_colunas_antes - qtde_colunas_depois}')\n",
        "\n",
        "qtd_colunas = [qtde_colunas_antes, qtde_colunas_depois]\n",
        "\n",
        "plt.bar(['antes', 'depois'], qtd_colunas)\n",
        "plt.ylabel('Quantidade de colunas')\n",
        "plt.title('Quantidade de colunas antes e depois do processamento')\n",
        "plt.text(0, qtd_colunas[0], f'{qtd_colunas[0]}', ha='center', va='bottom')\n",
        "plt.text(1, qtd_colunas[1], f'{qtd_colunas[1]}', ha='center', va='bottom')\n",
        "plt.show()"
      ],
      "metadata": {
        "colab": {
          "base_uri": "https://localhost:8080/",
          "height": 487
        },
        "id": "h7W6Nw0R9tdZ",
        "outputId": "cc39f967-5346-4eda-d1ef-31ffefaf414e"
      },
      "execution_count": 61,
      "outputs": [
        {
          "output_type": "stream",
          "name": "stdout",
          "text": [
            "quantidade de colunas depois: 47\n",
            "quantidade de colunas excluídas: 90\n"
          ]
        },
        {
          "output_type": "display_data",
          "data": {
            "text/plain": [
              "<Figure size 640x480 with 1 Axes>"
            ],
            "image/png": "[encoded data removed]"
          },
          "metadata": {}
        }
      ]
    },
    {
      "cell_type": "markdown",
      "source": [
        "## Comparativo de arquivos"
      ],
      "metadata": {
        "id": "McjEXf6gExOT"
      }
    },
    {
      "cell_type": "code",
      "source": [
        "# Exportação dos arquivos\n",
        "excel_exportacao = base_elog.to_excel(f\"lista_bens-{selected_UG}-processado.xlsx\", sheet_name='Sheet0', index=False)\n",
        "csv_exportacao = base_elog.to_csv(f\"lista_bens-{selected_UG}-processado.csv\", index=False)\n",
        "\n",
        "\n",
        "# Medição de tamanho do arquivo\n",
        "filepath = f\"lista_bens-{selected_UG}-processado.xlsx\"\n",
        "tamanho_novo_arquivo_xlsx = pega_tamanho_em_mb(filepath)\n",
        "\n",
        "filepath = f\"lista_bens-{selected_UG}-processado.csv\"\n",
        "tamanho_novo_arquivo_csv = pega_tamanho_em_mb(filepath)\n",
        "\n",
        "\n",
        "print(f\"O novo tamanho do arquivo .xlsx é: {tamanho_novo_arquivo_xlsx} MB\")\n",
        "\n",
        "tamanhos_arquivo = [tamanho_antigo_arquivo, tamanho_novo_arquivo_xlsx, tamanho_novo_arquivo_csv]\n",
        "plt.bar(['antes', 'depois xlsx','depois csv'], tamanhos_arquivo)\n",
        "plt.xlabel('Arquivo')\n",
        "plt.ylabel('Tamanho do arquivo (MB)')\n",
        "plt.title('Tamanho do arquivo antes e depois do processamento')\n",
        "plt.text(0, tamanhos_arquivo[0], f'{tamanhos_arquivo[0]:.2f} MB', ha='center', va='bottom')\n",
        "plt.text(1, tamanhos_arquivo[1], f'{tamanhos_arquivo[1]:.2f} MB', ha='center', va='bottom')\n",
        "plt.text(2, tamanhos_arquivo[2], f'{tamanhos_arquivo[2]:.2f} MB', ha='center', va='bottom')\n",
        "plt.show()\n"
      ],
      "metadata": {
        "colab": {
          "base_uri": "https://localhost:8080/",
          "height": 489
        },
        "id": "SDEodGfgD58h",
        "outputId": "c990616f-c8c8-463f-d617-5f911ebc9f3d"
      },
      "execution_count": 62,
      "outputs": [
        {
          "output_type": "stream",
          "name": "stdout",
          "text": [
            "O novo tamanho do arquivo .xlsx é: 3.3182106018066406 MB\n"
          ]
        },
        {
          "output_type": "display_data",
          "data": {
            "text/plain": [
              "<Figure size 640x480 with 1 Axes>"
            ],
            "image/png": "[encoded data removed]"
          },
          "metadata": {}
        }
      ]
    },
    {
      "cell_type": "markdown",
      "source": [
        "#Retorno do arquivo"
      ],
      "metadata": {
        "id": "X2J_MXzfwgG6"
      }
    },
    {
      "cell_type": "code",
      "source": [
        "files.download(f'/content/lista_bens-{selected_UG}-processado.xlsx')\n",
        "files.download(f'/content/lista_bens-{selected_UG}-processado.csv')"
      ],
      "metadata": {
        "colab": {
          "base_uri": "https://localhost:8080/",
          "height": 17
        },
        "id": "fimhPhvt-BJ8",
        "outputId": "a37edbaf-e4dc-4299-d787-8abf8b6e3340"
      },
      "execution_count": 63,
      "outputs": [
        {
          "output_type": "display_data",
          "data": {
            "text/plain": [
              "<IPython.core.display.Javascript object>"
            ],
            "application/javascript": [
              "\n",
              "    async function download(id, filename, size) {\n",
              "      if (!google.colab.kernel.accessAllowed) {\n",
              "        return;\n",
              "      }\n",
              "      const div = document.createElement('div');\n",
              "      const label = document.createElement('label');\n",
              "      label.textContent = `Downloading \"${filename}\": `;\n",
              "      div.appendChild(label);\n",
              "      const progress = document.createElement('progress');\n",
              "      progress.max = size;\n",
              "      div.appendChild(progress);\n",
              "      document.body.appendChild(div);\n",
              "\n",
              "      const buffers = [];\n",
              "      let downloaded = 0;\n",
              "\n",
              "      const channel = await google.colab.kernel.comms.open(id);\n",
              "      // Send a message to notify the kernel that we're ready.\n",
              "      channel.send({})\n",
              "\n",
              "      for await (const message of channel.messages) {\n",
              "        // Send a message to notify the kernel that we're ready.\n",
              "        channel.send({})\n",
              "        if (message.buffers) {\n",
              "          for (const buffer of message.buffers) {\n",
              "            buffers.push(buffer);\n",
              "            downloaded += buffer.byteLength;\n",
              "            progress.value = downloaded;\n",
              "          }\n",
              "        }\n",
              "      }\n",
              "      const blob = new Blob(buffers, {type: 'application/binary'});\n",
              "      const a = document.createElement('a');\n",
              "      a.href = window.URL.createObjectURL(blob);\n",
              "      a.download = filename;\n",
              "      div.appendChild(a);\n",
              "      a.click();\n",
              "      div.remove();\n",
              "    }\n",
              "  "
            ]
          },
          "metadata": {}
        },
        {
          "output_type": "display_data",
          "data": {
            "text/plain": [
              "<IPython.core.display.Javascript object>"
            ],
            "application/javascript": [
              "download(\"download_a5a81603-3cc3-472a-88e6-e2dc4c61aadd\", \"lista_bens-DITEC-processado.xlsx\", 3479396)"
            ]
          },
          "metadata": {}
        },
        {
          "output_type": "display_data",
          "data": {
            "text/plain": [
              "<IPython.core.display.Javascript object>"
            ],
            "application/javascript": [
              "\n",
              "    async function download(id, filename, size) {\n",
              "      if (!google.colab.kernel.accessAllowed) {\n",
              "        return;\n",
              "      }\n",
              "      const div = document.createElement('div');\n",
              "      const label = document.createElement('label');\n",
              "      label.textContent = `Downloading \"${filename}\": `;\n",
              "      div.appendChild(label);\n",
              "      const progress = document.createElement('progress');\n",
              "      progress.max = size;\n",
              "      div.appendChild(progress);\n",
              "      document.body.appendChild(div);\n",
              "\n",
              "      const buffers = [];\n",
              "      let downloaded = 0;\n",
              "\n",
              "      const channel = await google.colab.kernel.comms.open(id);\n",
              "      // Send a message to notify the kernel that we're ready.\n",
              "      channel.send({})\n",
              "\n",
              "      for await (const message of channel.messages) {\n",
              "        // Send a message to notify the kernel that we're ready.\n",
              "        channel.send({})\n",
              "        if (message.buffers) {\n",
              "          for (const buffer of message.buffers) {\n",
              "            buffers.push(buffer);\n",
              "            downloaded += buffer.byteLength;\n",
              "            progress.value = downloaded;\n",
              "          }\n",
              "        }\n",
              "      }\n",
              "      const blob = new Blob(buffers, {type: 'application/binary'});\n",
              "      const a = document.createElement('a');\n",
              "      a.href = window.URL.createObjectURL(blob);\n",
              "      a.download = filename;\n",
              "      div.appendChild(a);\n",
              "      a.click();\n",
              "      div.remove();\n",
              "    }\n",
              "  "
            ]
          },
          "metadata": {}
        },
        {
          "output_type": "display_data",
          "data": {
            "text/plain": [
              "<IPython.core.display.Javascript object>"
            ],
            "application/javascript": [
              "download(\"download_dc6cf94b-2a7e-4669-8a40-0c464a51f463\", \"lista_bens-DITEC-processado.csv\", 9496507)"
            ]
          },
          "metadata": {}
        }
      ]
    },
    {
      "cell_type": "code",
      "source": [],
      "metadata": {
        "id": "4qj7uS6dEuM0"
      },
      "execution_count": 63,
      "outputs": []
    }
  ]
}