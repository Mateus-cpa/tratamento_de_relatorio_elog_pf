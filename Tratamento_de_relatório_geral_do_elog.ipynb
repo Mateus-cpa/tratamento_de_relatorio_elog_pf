{
  "nbformat": 4,
  "nbformat_minor": 0,
  "metadata": {
    "colab": {
      "provenance": [],
      "authorship_tag": "ABX9TyPBotKMYy22ChaQ05cHr+FC",
      "include_colab_link": true
    },
    "kernelspec": {
      "name": "python3",
      "display_name": "Python 3"
    },
    "language_info": {
      "name": "python"
    },
    "widgets": {
      "application/vnd.jupyter.widget-state+json": {
        "53058383acd646c082a2d21a2f78d4e4": {
          "model_module": "@jupyter-widgets/controls",
          "model_name": "DropdownModel",
          "model_module_version": "1.5.0",
          "state": {
            "_dom_classes": [],
            "_model_module": "@jupyter-widgets/controls",
            "_model_module_version": "1.5.0",
            "_model_name": "DropdownModel",
            "_options_labels": [
              "SRAC",
              "SRAL",
              "SRAP",
              "SRAM",
              "SRBA",
              "SRCE",
              "CGAD",
              "SRDF",
              "DITEC",
              "DIREN",
              "DTI",
              "SRES",
              "FIG",
              "SRGO",
              "SRMA",
              "SRMT",
              "SRMS",
              "SRMG",
              "SRPA",
              "SRPB",
              "SRPR",
              "SRPE",
              "SRPI",
              "SRRJ",
              "SRRN",
              "SRRS",
              "SRRO",
              "SRRR",
              "SRSC",
              "SRSP",
              "SRSE",
              "SRTO"
            ],
            "_view_count": null,
            "_view_module": "@jupyter-widgets/controls",
            "_view_module_version": "1.5.0",
            "_view_name": "DropdownView",
            "description": "Unidade Gestora",
            "description_tooltip": null,
            "disabled": false,
            "index": 8,
            "layout": "IPY_MODEL_d4fa79a0ecdb4822882dfbdf2ba8065c",
            "style": "IPY_MODEL_fe71ad1045594e7788f26e0b78de6ec3"
          }
        },
        "d4fa79a0ecdb4822882dfbdf2ba8065c": {
          "model_module": "@jupyter-widgets/base",
          "model_name": "LayoutModel",
          "model_module_version": "1.2.0",
          "state": {
            "_model_module": "@jupyter-widgets/base",
            "_model_module_version": "1.2.0",
            "_model_name": "LayoutModel",
            "_view_count": null,
            "_view_module": "@jupyter-widgets/base",
            "_view_module_version": "1.2.0",
            "_view_name": "LayoutView",
            "align_content": null,
            "align_items": null,
            "align_self": null,
            "border": null,
            "bottom": null,
            "display": null,
            "flex": null,
            "flex_flow": null,
            "grid_area": null,
            "grid_auto_columns": null,
            "grid_auto_flow": null,
            "grid_auto_rows": null,
            "grid_column": null,
            "grid_gap": null,
            "grid_row": null,
            "grid_template_areas": null,
            "grid_template_columns": null,
            "grid_template_rows": null,
            "height": null,
            "justify_content": null,
            "justify_items": null,
            "left": null,
            "margin": null,
            "max_height": null,
            "max_width": null,
            "min_height": null,
            "min_width": null,
            "object_fit": null,
            "object_position": null,
            "order": null,
            "overflow": null,
            "overflow_x": null,
            "overflow_y": null,
            "padding": null,
            "right": null,
            "top": null,
            "visibility": null,
            "width": null
          }
        },
        "fe71ad1045594e7788f26e0b78de6ec3": {
          "model_module": "@jupyter-widgets/controls",
          "model_name": "DescriptionStyleModel",
          "model_module_version": "1.5.0",
          "state": {
            "_model_module": "@jupyter-widgets/controls",
            "_model_module_version": "1.5.0",
            "_model_name": "DescriptionStyleModel",
            "_view_count": null,
            "_view_module": "@jupyter-widgets/base",
            "_view_module_version": "1.2.0",
            "_view_name": "StyleView",
            "description_width": ""
          }
        }
      }
    }
  },
  "cells": [
    {
      "cell_type": "markdown",
      "metadata": {
        "id": "view-in-github",
        "colab_type": "text"
      },
      "source": [
        "<a href=\"https://colab.research.google.com/github/Mateus-cpa/tratamento_de_relatorio_elog_pf/blob/main/Tratamento_de_relat%C3%B3rio_geral_do_elog.ipynb\" target=\"_parent\"><img src=\"https://colab.research.google.com/assets/colab-badge.svg\" alt=\"Open In Colab\"/></a>"
      ]
    },
    {
      "cell_type": "markdown",
      "source": [
        "# Importação de bibliotecas\n"
      ],
      "metadata": {
        "id": "RukMHKD7lIlB"
      }
    },
    {
      "cell_type": "code",
      "source": [
        "#!pip install ipywidgets==7.7.1\n"
      ],
      "metadata": {
        "id": "x5Auv38ZoixK"
      },
      "execution_count": null,
      "outputs": []
    },
    {
      "cell_type": "code",
      "source": [
        "from google.colab import files\n",
        "import numpy as np\n",
        "import pandas as pd\n",
        "import ipywidgets as widgets\n",
        "from ipywidgets import interact\n",
        "import io\n"
      ],
      "metadata": {
        "id": "W0ZMK091lLph"
      },
      "execution_count": null,
      "outputs": []
    },
    {
      "cell_type": "markdown",
      "source": [
        "# Carregamento de dados"
      ],
      "metadata": {
        "id": "gRVbkDwej59Z"
      }
    },
    {
      "cell_type": "code",
      "execution_count": null,
      "metadata": {
        "id": "2WJNe3zNjzVz",
        "colab": {
          "base_uri": "https://localhost:8080/",
          "height": 107
        },
        "outputId": "f27d0147-ec4a-4ec1-d4cf-f2f778346d56"
      },
      "outputs": [
        {
          "output_type": "display_data",
          "data": {
            "text/plain": [
              "<IPython.core.display.HTML object>"
            ],
            "text/html": [
              "\n",
              "     <input type=\"file\" id=\"files-8204919b-654d-4121-ad51-2719ff8bfb72\" name=\"files[]\" multiple disabled\n",
              "        style=\"border:none\" />\n",
              "     <output id=\"result-8204919b-654d-4121-ad51-2719ff8bfb72\">\n",
              "      Upload widget is only available when the cell has been executed in the\n",
              "      current browser session. Please rerun this cell to enable.\n",
              "      </output>\n",
              "      <script>// Copyright 2017 Google LLC\n",
              "//\n",
              "// Licensed under the Apache License, Version 2.0 (the \"License\");\n",
              "// you may not use this file except in compliance with the License.\n",
              "// You may obtain a copy of the License at\n",
              "//\n",
              "//      http://www.apache.org/licenses/LICENSE-2.0\n",
              "//\n",
              "// Unless required by applicable law or agreed to in writing, software\n",
              "// distributed under the License is distributed on an \"AS IS\" BASIS,\n",
              "// WITHOUT WARRANTIES OR CONDITIONS OF ANY KIND, either express or implied.\n",
              "// See the License for the specific language governing permissions and\n",
              "// limitations under the License.\n",
              "\n",
              "/**\n",
              " * @fileoverview Helpers for google.colab Python module.\n",
              " */\n",
              "(function(scope) {\n",
              "function span(text, styleAttributes = {}) {\n",
              "  const element = document.createElement('span');\n",
              "  element.textContent = text;\n",
              "  for (const key of Object.keys(styleAttributes)) {\n",
              "    element.style[key] = styleAttributes[key];\n",
              "  }\n",
              "  return element;\n",
              "}\n",
              "\n",
              "// Max number of bytes which will be uploaded at a time.\n",
              "const MAX_PAYLOAD_SIZE = 100 * 1024;\n",
              "\n",
              "function _uploadFiles(inputId, outputId) {\n",
              "  const steps = uploadFilesStep(inputId, outputId);\n",
              "  const outputElement = document.getElementById(outputId);\n",
              "  // Cache steps on the outputElement to make it available for the next call\n",
              "  // to uploadFilesContinue from Python.\n",
              "  outputElement.steps = steps;\n",
              "\n",
              "  return _uploadFilesContinue(outputId);\n",
              "}\n",
              "\n",
              "// This is roughly an async generator (not supported in the browser yet),\n",
              "// where there are multiple asynchronous steps and the Python side is going\n",
              "// to poll for completion of each step.\n",
              "// This uses a Promise to block the python side on completion of each step,\n",
              "// then passes the result of the previous step as the input to the next step.\n",
              "function _uploadFilesContinue(outputId) {\n",
              "  const outputElement = document.getElementById(outputId);\n",
              "  const steps = outputElement.steps;\n",
              "\n",
              "  const next = steps.next(outputElement.lastPromiseValue);\n",
              "  return Promise.resolve(next.value.promise).then((value) => {\n",
              "    // Cache the last promise value to make it available to the next\n",
              "    // step of the generator.\n",
              "    outputElement.lastPromiseValue = value;\n",
              "    return next.value.response;\n",
              "  });\n",
              "}\n",
              "\n",
              "/**\n",
              " * Generator function which is called between each async step of the upload\n",
              " * process.\n",
              " * @param {string} inputId Element ID of the input file picker element.\n",
              " * @param {string} outputId Element ID of the output display.\n",
              " * @return {!Iterable<!Object>} Iterable of next steps.\n",
              " */\n",
              "function* uploadFilesStep(inputId, outputId) {\n",
              "  const inputElement = document.getElementById(inputId);\n",
              "  inputElement.disabled = false;\n",
              "\n",
              "  const outputElement = document.getElementById(outputId);\n",
              "  outputElement.innerHTML = '';\n",
              "\n",
              "  const pickedPromise = new Promise((resolve) => {\n",
              "    inputElement.addEventListener('change', (e) => {\n",
              "      resolve(e.target.files);\n",
              "    });\n",
              "  });\n",
              "\n",
              "  const cancel = document.createElement('button');\n",
              "  inputElement.parentElement.appendChild(cancel);\n",
              "  cancel.textContent = 'Cancel upload';\n",
              "  const cancelPromise = new Promise((resolve) => {\n",
              "    cancel.onclick = () => {\n",
              "      resolve(null);\n",
              "    };\n",
              "  });\n",
              "\n",
              "  // Wait for the user to pick the files.\n",
              "  const files = yield {\n",
              "    promise: Promise.race([pickedPromise, cancelPromise]),\n",
              "    response: {\n",
              "      action: 'starting',\n",
              "    }\n",
              "  };\n",
              "\n",
              "  cancel.remove();\n",
              "\n",
              "  // Disable the input element since further picks are not allowed.\n",
              "  inputElement.disabled = true;\n",
              "\n",
              "  if (!files) {\n",
              "    return {\n",
              "      response: {\n",
              "        action: 'complete',\n",
              "      }\n",
              "    };\n",
              "  }\n",
              "\n",
              "  for (const file of files) {\n",
              "    const li = document.createElement('li');\n",
              "    li.append(span(file.name, {fontWeight: 'bold'}));\n",
              "    li.append(span(\n",
              "        `(${file.type || 'n/a'}) - ${file.size} bytes, ` +\n",
              "        `last modified: ${\n",
              "            file.lastModifiedDate ? file.lastModifiedDate.toLocaleDateString() :\n",
              "                                    'n/a'} - `));\n",
              "    const percent = span('0% done');\n",
              "    li.appendChild(percent);\n",
              "\n",
              "    outputElement.appendChild(li);\n",
              "\n",
              "    const fileDataPromise = new Promise((resolve) => {\n",
              "      const reader = new FileReader();\n",
              "      reader.onload = (e) => {\n",
              "        resolve(e.target.result);\n",
              "      };\n",
              "      reader.readAsArrayBuffer(file);\n",
              "    });\n",
              "    // Wait for the data to be ready.\n",
              "    let fileData = yield {\n",
              "      promise: fileDataPromise,\n",
              "      response: {\n",
              "        action: 'continue',\n",
              "      }\n",
              "    };\n",
              "\n",
              "    // Use a chunked sending to avoid message size limits. See b/62115660.\n",
              "    let position = 0;\n",
              "    do {\n",
              "      const length = Math.min(fileData.byteLength - position, MAX_PAYLOAD_SIZE);\n",
              "      const chunk = new Uint8Array(fileData, position, length);\n",
              "      position += length;\n",
              "\n",
              "      const base64 = btoa(String.fromCharCode.apply(null, chunk));\n",
              "      yield {\n",
              "        response: {\n",
              "          action: 'append',\n",
              "          file: file.name,\n",
              "          data: base64,\n",
              "        },\n",
              "      };\n",
              "\n",
              "      let percentDone = fileData.byteLength === 0 ?\n",
              "          100 :\n",
              "          Math.round((position / fileData.byteLength) * 100);\n",
              "      percent.textContent = `${percentDone}% done`;\n",
              "\n",
              "    } while (position < fileData.byteLength);\n",
              "  }\n",
              "\n",
              "  // All done.\n",
              "  yield {\n",
              "    response: {\n",
              "      action: 'complete',\n",
              "    }\n",
              "  };\n",
              "}\n",
              "\n",
              "scope.google = scope.google || {};\n",
              "scope.google.colab = scope.google.colab || {};\n",
              "scope.google.colab._files = {\n",
              "  _uploadFiles,\n",
              "  _uploadFilesContinue,\n",
              "};\n",
              "})(self);\n",
              "</script> "
            ]
          },
          "metadata": {}
        },
        {
          "output_type": "stream",
          "name": "stdout",
          "text": [
            "Saving lista_bens-DITEC.xlsx to lista_bens-DITEC.xlsx\n"
          ]
        },
        {
          "output_type": "stream",
          "name": "stderr",
          "text": [
            "/usr/local/lib/python3.10/dist-packages/openpyxl/styles/stylesheet.py:237: UserWarning: Workbook contains no default style, apply openpyxl's default\n",
            "  warn(\"Workbook contains no default style, apply openpyxl's default\")\n"
          ]
        }
      ],
      "source": [
        "#importar os dados da pasta do computador\n",
        "uploaded = files.upload()\n",
        "filename = next(iter(uploaded))\n",
        "df = pd.read_excel(io.BytesIO(uploaded[filename]))"
      ]
    },
    {
      "cell_type": "code",
      "source": [
        "#configurar num tombamento como índice\n",
        "base_elog = df.copy()\n",
        "base_elog.set_index('num tombamento', inplace=True)"
      ],
      "metadata": {
        "id": "8fsF_2XmDDEC"
      },
      "execution_count": null,
      "outputs": []
    },
    {
      "cell_type": "code",
      "source": [
        "qtde_bens = len(base_elog.index)\n",
        "\n",
        "#contar a quantidade de bens\n",
        "print(f'quantidade de bens: {qtde_bens}')\n",
        "\n",
        "#retornar a proporção de valores nulos em cada coluna\n",
        "df_null = base_elog.isnull().sum()/qtde_bens*100\n",
        "df_null.sort_values(ascending=False).head(30)"
      ],
      "metadata": {
        "colab": {
          "base_uri": "https://localhost:8080/"
        },
        "id": "Xdnz2WQjmX1K",
        "outputId": "6bffa237-6b5e-48a1-9dd5-ded40ea5800b"
      },
      "execution_count": null,
      "outputs": [
        {
          "output_type": "stream",
          "name": "stdout",
          "text": [
            "quantidade de bens: 16790\n"
          ]
        },
        {
          "output_type": "execute_result",
          "data": {
            "text/plain": [
              "bordas                                     100.000000\n",
              "material da estrutura                      100.000000\n",
              "profundidade                               100.000000\n",
              "qtd de rodas                               100.000000\n",
              "servidor responsavel                       100.000000\n",
              "acabamento da estrutura                    100.000000\n",
              "alcance                                    100.000000\n",
              "material revestimento assento e encosto    100.000000\n",
              "capacidade de tiros                        100.000000\n",
              "carga.1                                    100.000000\n",
              "material do assento e encosto              100.000000\n",
              "data fabricacao                            100.000000\n",
              "contraste                                  100.000000\n",
              "faixa de operacao                          100.000000\n",
              "impedancia                                 100.000000\n",
              "largura de leitura                         100.000000\n",
              "observacao bloqueio                        100.000000\n",
              "qtd de nivel                               100.000000\n",
              "tensao                                     100.000000\n",
              "padrao de leitura                          100.000000\n",
              "volume                                     100.000000\n",
              "velocidade de varredura                    100.000000\n",
              "portas                                     100.000000\n",
              "carga                                      100.000000\n",
              "qtd de canais                              100.000000\n",
              "velocidade                                 100.000000\n",
              "tanque                                     100.000000\n",
              "placa                                       99.994044\n",
              "qtd de gavetas                              99.994044\n",
              "zoom otico                                  99.994044\n",
              "dtype: float64"
            ]
          },
          "metadata": {},
          "execution_count": 166
        }
      ]
    },
    {
      "cell_type": "code",
      "source": [
        "#colunas no arquivo original\n",
        "base_elog.columns.values"
      ],
      "metadata": {
        "colab": {
          "base_uri": "https://localhost:8080/"
        },
        "id": "oxxizM0_5hdx",
        "outputId": "5021d23b-6311-4107-8682-fd2dd4eaf618"
      },
      "execution_count": null,
      "outputs": [
        {
          "output_type": "execute_result",
          "data": {
            "text/plain": [
              "array(['unidade responsavel material', 'codigo', 'grupo de material',\n",
              "       'codigo material', 'subgrupo de material', 'acautelado para',\n",
              "       'matricula detentor', 'validado eletron', 'data assinatura',\n",
              "       'lotacao detentor', 'data acautelamento', 'data cadastro',\n",
              "       'denominacao', 'especificacao', 'marca', 'observacao', 'anulado',\n",
              "       'estado bem', 'status', 'bem terceiros', 'data balanco',\n",
              "       'data inicio uso', 'ano balanco', 'garantia', 'data fabricacao',\n",
              "       'data validade', 'localidade', 'ultimo levantamento',\n",
              "       'unidade tombamento', 'valor', 'valor entrada', 'valor acumulado',\n",
              "       'depreciavel', 'valor depreciacao acumulada', 'data ultimo ajuste',\n",
              "       'vida util', 'vida util base depreciacao',\n",
              "       'data ultimo ajuste depreciacao', 'tipo bloqueio',\n",
              "       'observacao bloqueio', 'matriz', 'qtd de rodas',\n",
              "       'acabamento da estrutura', 'ano de fabricacao', 'ano do modelo',\n",
              "       'aplicacao', 'bordas', 'calibre', 'carga', 'data de validade',\n",
              "       'genero', 'imei',\n",
              "       'lote  numeros e letras sem espacos e caracteres especiais ',\n",
              "       'marca.1', 'marca1', 'material', 'material do assento e encosto',\n",
              "       'material revestimento assento e encosto',\n",
              "       'memoria de armazenamento', 'modelo', 'modelo  ', 'modelo    ',\n",
              "       'modelo1', 'necessita ser substituido', 'nivel de protecao',\n",
              "       'n de serie', 'numero de chassis', 'numero de raias',\n",
              "       'numero de serie', 'numero de serie  ', 'num serie  chassis',\n",
              "       'ostensivo', 'placa', 'profundidade', 'qtd de gavetas',\n",
              "       'qtd de passageiros', 'qtd de portas', 'renavam',\n",
              "       'sentido das raias', 'servidor responsavel', 'tamanho  novo ',\n",
              "       'tipo de veiculo', 'tipo do monitor', 'tombo antigo',\n",
              "       'tombo antigo.1', 'alcance', 'aplicacao.1', 'blindagem',\n",
              "       'calibre.1', 'capacidade', 'capacidade de tiros', 'carga.1',\n",
              "       'combustivel', 'contraste', 'cor', 'cor predominante', 'dimensao',\n",
              "       'espaco disco rigido', 'faixa de operacao', 'frequencia',\n",
              "       'heavy duty', 'impedancia', 'interface', 'largura de leitura',\n",
              "       'material.1', 'material da estrutura', 'meio de aquisicao',\n",
              "       'modelo.1', 'numero de portas', 'padrao de leitura', 'peso',\n",
              "       'placa oficial', 'placa vinculada', 'polegadas', 'portas',\n",
              "       'potencia', 'potencia  cv ', 'qtd de canais', 'qtd de nivel',\n",
              "       'qtd memoria ram', 'resolucao', 'revestimento', 'tamanho da tela',\n",
              "       'tanque', 'taxa de transferencia', 'tensao',\n",
              "       'tensao de alimentacao', 'tipo', 'tipo de identificacao',\n",
              "       'tipo de propriedade', 'velocidade', 'velocidade de varredura',\n",
              "       'voltagem', 'volume', 'zoom otico'], dtype=object)"
            ]
          },
          "metadata": {},
          "execution_count": 167
        }
      ]
    },
    {
      "cell_type": "code",
      "source": [
        "#excluir colunas com 100% de valores nulos\n",
        "base_elog = base_elog.dropna(axis=1, how='all')\n",
        "df_null = base_elog.isnull().sum()/qtde_bens*100\n",
        "df_null.sort_values(ascending=False).head(30)\n"
      ],
      "metadata": {
        "colab": {
          "base_uri": "https://localhost:8080/"
        },
        "id": "4JV7BbFjwjGE",
        "outputId": "32fe9489-811e-4aab-87d6-b6995885456d"
      },
      "execution_count": null,
      "outputs": [
        {
          "output_type": "execute_result",
          "data": {
            "text/plain": [
              "zoom otico                                                    99.994044\n",
              "placa                                                         99.994044\n",
              "numero de portas                                              99.994044\n",
              "peso                                                          99.994044\n",
              "qtd de gavetas                                                99.994044\n",
              "placa vinculada                                               99.994044\n",
              "heavy duty                                                    99.994044\n",
              "taxa de transferencia                                         99.994044\n",
              "necessita ser substituido                                     99.994044\n",
              "data de validade                                              99.988088\n",
              "genero                                                        99.988088\n",
              "lote  numeros e letras sem espacos e caracteres especiais     99.988088\n",
              "nivel de protecao                                             99.988088\n",
              "tamanho  novo                                                 99.988088\n",
              "qtd de portas                                                 99.982132\n",
              "memoria de armazenamento                                      99.982132\n",
              "potencia                                                      99.982132\n",
              "data validade                                                 99.970220\n",
              "ostensivo                                                     99.958309\n",
              "blindagem                                                     99.958309\n",
              "material                                                      99.958309\n",
              "material.1                                                    99.958309\n",
              "meio de aquisicao                                             99.958309\n",
              "numero de raias                                               99.952353\n",
              "imei                                                          99.946397\n",
              "tombo antigo                                                  99.946397\n",
              "sentido das raias                                             99.946397\n",
              "ano do modelo                                                 99.940441\n",
              "cor predominante                                              99.940441\n",
              "tipo do monitor                                               99.940441\n",
              "dtype: float64"
            ]
          },
          "metadata": {},
          "execution_count": 168
        }
      ]
    },
    {
      "cell_type": "code",
      "source": [
        "#checar se colunas de números de série existem na planilha\n",
        "cols_to_check = ['imei','n de serie', 'numero de serie',\n",
        "       'numero de serie  ', 'num serie', 'placa', 'placa  ', 'placa vinculada', 'placa oficial']\n",
        "\n",
        "existing_serie_cols = [col for col in cols_to_check if col in base_elog.columns]\n",
        "\n",
        "print(existing_serie_cols)\n",
        "\n",
        "#checar se colunas de modelo existem na planilha\n",
        "cols_to_check = ['modelo', 'modelo  ', 'modelo    ', 'modelo1', 'modelo.1']\n",
        "\n",
        "existing_modelo_cols = [col for col in cols_to_check if col in base_elog.columns]\n",
        "\n",
        "print(existing_modelo_cols)\n",
        "\n",
        "# checar se colunas de marca existem na planilha\n",
        "cols_to_check = ['marca','marca.1', 'marca1']\n",
        "\n",
        "existing_marca_cols = [col for col in cols_to_check if col in base_elog.columns]\n",
        "\n",
        "print(existing_marca_cols)\n",
        "\n",
        "\n",
        "#checar se colunas de tombo antigo existem na planilha\n",
        "cols_to_check = ['tombo antigo', 'tombo antigo.1']\n",
        "\n",
        "existing_tombo_antigo_cols = [col for col in cols_to_check if col in base_elog.columns]\n",
        "\n",
        "print(existing_tombo_antigo_cols)\n",
        "\n",
        "\n",
        "# checar se colunas de especificações na planilha\n",
        "cols_to_check = ['nivel de protecao da placa',\n",
        "       'qtd de rodas', 'acabamento da estrutura', 'altura',\n",
        "       'ano de fabricacao', 'ano do modelo', 'aplicacao', 'bordas',\n",
        "       'calibre', 'carga', 'data de validade', 'destino', 'genero','largura',\n",
        "       'lote  numeros e letras sem espacos e caracteres especiais ',\n",
        "        'material', 'material do assento e encosto',\n",
        "       'material revestimento assento e encosto',\n",
        "       'memoria de armazenamento', 'necessita ser substituido', 'nivel de protecao',\n",
        "       'numero de chassis', 'numero de raias'\n",
        "       ,'num serie  chassis', 'ostensivo',\n",
        "       'profundidade', 'qtd de passageiros', 'qtd de portas', 'renavam',\n",
        "       'sentido das raias', 'servidor responsavel', 'tamanho  novo ',\n",
        "       'tipo de veiculo', 'tipo do monitor', 'alcance', 'ano de fabricacao.1', 'aplicacao.1',\n",
        "       'blindagem', 'calibre.1', 'capacidade', 'capacidade de tiros',\n",
        "       'carga.1', 'classe', 'combustivel', 'compartimento cela',\n",
        "       'contraste', 'cor', 'cor predominante', 'dimensao',\n",
        "       'espaco disco rigido', 'faixa de operacao', 'frequencia',\n",
        "       'heavy duty', 'impedancia', 'interface', 'largura de leitura',\n",
        "       'material.1', 'material da estrutura', 'meio de aquisicao',\n",
        "       'numero de portas', 'padrao de leitura', 'peso',\n",
        "       'polegadas', 'portas',\n",
        "       'potencia', 'potencia  cv ', 'qtd de canais', 'qtd de nivel',\n",
        "       'qtd memoria ram', 'resolucao', 'revestimento', 'tamanho da tela',\n",
        "       'tanque', 'taxa de transferencia', 'tensao',\n",
        "       'tensao de alimentacao', 'tipo', 'tipo de identificacao',\n",
        "       'tipo de propriedade', 'velocidade', 'velocidade de varredura',\n",
        "       'voltagem', 'volume', 'zoom otico']\n",
        "\n",
        "existing_especificacoes_cols = [col for col in cols_to_check if col in base_elog.columns]\n",
        "\n",
        "print(existing_especificacoes_cols)"
      ],
      "metadata": {
        "colab": {
          "base_uri": "https://localhost:8080/"
        },
        "id": "oQjQNFAQH9Yq",
        "outputId": "e22fe4a1-68e8-4638-aa34-35a4930885aa"
      },
      "execution_count": null,
      "outputs": [
        {
          "output_type": "stream",
          "name": "stdout",
          "text": [
            "['imei', 'n de serie', 'numero de serie', 'numero de serie  ', 'placa', 'placa vinculada', 'placa oficial']\n",
            "['modelo', 'modelo  ', 'modelo    ', 'modelo1', 'modelo.1']\n",
            "['marca', 'marca.1', 'marca1']\n",
            "['tombo antigo', 'tombo antigo.1']\n",
            "['ano de fabricacao', 'ano do modelo', 'aplicacao', 'calibre', 'data de validade', 'genero', 'lote  numeros e letras sem espacos e caracteres especiais ', 'material', 'memoria de armazenamento', 'necessita ser substituido', 'nivel de protecao', 'numero de chassis', 'numero de raias', 'num serie  chassis', 'ostensivo', 'qtd de passageiros', 'qtd de portas', 'renavam', 'sentido das raias', 'tamanho  novo ', 'tipo de veiculo', 'tipo do monitor', 'aplicacao.1', 'blindagem', 'calibre.1', 'capacidade', 'combustivel', 'cor', 'cor predominante', 'dimensao', 'espaco disco rigido', 'frequencia', 'heavy duty', 'interface', 'material.1', 'meio de aquisicao', 'numero de portas', 'peso', 'polegadas', 'potencia', 'potencia  cv ', 'qtd memoria ram', 'resolucao', 'revestimento', 'tamanho da tela', 'taxa de transferencia', 'tensao de alimentacao', 'tipo', 'tipo de identificacao', 'tipo de propriedade', 'voltagem', 'zoom otico']\n"
          ]
        }
      ]
    },
    {
      "cell_type": "code",
      "source": [
        "# criar coluna de serie que compilará os demais números de série\n",
        "base_elog['serie_total'] = None\n",
        "base_elog['modelo_total'] = None\n",
        "base_elog['especificacoes'] = None\n",
        "base_elog['tombo_antigo'] = None\n",
        "base_elog['marca_total'] = None\n",
        "\n",
        "\n",
        "lista_colunas_exibir = ['denominacao','serie_total', 'modelo_total', 'especificacoes', 'tombo_antigo', 'marca_total']\n",
        "#lista_colunas_exibir.extend(existing_serie_cols)\n",
        "#lista_colunas_exibir.extend(existing_modelo_cols)\n"
      ],
      "metadata": {
        "id": "ARSZwMCC1Q0c"
      },
      "execution_count": null,
      "outputs": []
    },
    {
      "cell_type": "code",
      "source": [
        "#define as funções\n",
        "def create_especificacoes(row):\n",
        "    especificacoes = {}\n",
        "    for col in existing_especificacoes_cols:\n",
        "        if col in row and not pd.isna(row[col]):\n",
        "            especificacoes[col] = row[col]\n",
        "    return especificacoes\n",
        "\n",
        "def compile_series(row, existing_serie_cols):\n",
        "    lista_numero_series = []\n",
        "    for col in existing_serie_cols:\n",
        "        value = row[col]\n",
        "        if not pd.isna(value) and value not in [\"\", \".\", \"...\"]:\n",
        "            lista_numero_series.append(str(value).strip())\n",
        "\n",
        "    lista_numero_series = list(set(lista_numero_series))\n",
        "    return ', '.join(lista_numero_series)\n",
        "\n",
        "def compile_modelo(row, existing_modelo_cols):\n",
        "    lista_modelo = []\n",
        "    for col in existing_modelo_cols:\n",
        "        value = row[col]\n",
        "        if not pd.isna(value) and value not in [\"\", \".\", \"...\"]:\n",
        "            lista_modelo.append(str(value).strip())\n",
        "\n",
        "    lista_modelo = list(set(lista_modelo))\n",
        "    return ', '.join(lista_modelo)\n",
        "\n",
        "def compile_marca(row, existing_marca_cols):\n",
        "    lista_marca = []\n",
        "    for col in existing_marca_cols:\n",
        "        value = row[col]\n",
        "        if not pd.isna(value) and value not in [\"\", \".\", \"...\"]:\n",
        "            lista_marca.append(str(value).strip())\n",
        "\n",
        "    lista_marca = list(set(lista_marca))\n",
        "    return ', '.join(lista_marca)\n",
        "\n",
        "def compile_tombo_antigo(row, existing_tombo_antigo_cols):\n",
        "    lista_tombo_antigo = []\n",
        "    for col in existing_tombo_antigo_cols:\n",
        "        value = row[col]\n",
        "        if not pd.isna(value) and value not in [\"\", \".\", \"...\"]:\n",
        "            for char in str(value):\n",
        "                value = str(value).lstrip('P')\n",
        "                value = str(value).lstrip('0')\n",
        "            lista_tombo_antigo.append(str(value).strip())\n",
        "\n",
        "    lista_tombo_antigo = list(set(lista_tombo_antigo))\n",
        "    return ', '.join(lista_tombo_antigo)\n",
        "\n",
        "#chamar as funções\n",
        "base_elog['especificacoes'] = base_elog.apply(create_especificacoes, axis=1)\n",
        "base_elog['serie_total'] = base_elog.apply(compile_series, axis=1, args=(existing_serie_cols,))\n",
        "base_elog['modelo_total'] = base_elog.apply(compile_modelo, axis=1, args=(existing_modelo_cols,))\n",
        "base_elog['marca_total'] = base_elog.apply(compile_marca, axis=1, args=(existing_marca_cols,))\n",
        "base_elog['tombo_antigo'] = base_elog[existing_tombo_antigo_cols].apply(compile_tombo_antigo, axis=1, args=(existing_tombo_antigo_cols,))\n"
      ],
      "metadata": {
        "id": "xgH2zWjphFw6"
      },
      "execution_count": null,
      "outputs": []
    },
    {
      "cell_type": "code",
      "source": [
        "#chama as funções\n",
        "base_elog.drop(columns=existing_tombo_antigo_cols, inplace=True)\n",
        "base_elog.drop(columns=existing_modelo_cols, inplace=True)\n",
        "base_elog.drop(columns=existing_serie_cols, inplace=True)\n",
        "base_elog.drop(columns=existing_marca_cols, inplace=True)\n",
        "base_elog.drop(columns=existing_especificacoes_cols, inplace=True)\n"
      ],
      "metadata": {
        "id": "gOMxczhFLDJj"
      },
      "execution_count": null,
      "outputs": []
    },
    {
      "cell_type": "code",
      "source": [
        "# dividir a célula e retornar a última parte após '-' para retitrar a sigla\n",
        "base_elog['sigla'] = base_elog['unidade responsavel material'].apply(lambda x: x.split('-')[-1])\n"
      ],
      "metadata": {
        "id": "t0y6ypXLyflB"
      },
      "execution_count": null,
      "outputs": []
    },
    {
      "cell_type": "code",
      "source": [
        "#colunas no arquivo final\n",
        "base_elog.columns"
      ],
      "metadata": {
        "colab": {
          "base_uri": "https://localhost:8080/"
        },
        "id": "1uTg7PQ-r1xI",
        "outputId": "271cc3bd-e260-41ef-f0d4-2dd3c26c7cbf"
      },
      "execution_count": null,
      "outputs": [
        {
          "output_type": "execute_result",
          "data": {
            "text/plain": [
              "Index(['unidade responsavel material', 'codigo', 'grupo de material',\n",
              "       'codigo material', 'subgrupo de material', 'acautelado para',\n",
              "       'matricula detentor', 'validado eletron', 'data assinatura',\n",
              "       'lotacao detentor', 'data acautelamento', 'data cadastro',\n",
              "       'denominacao', 'especificacao', 'observacao', 'anulado', 'estado bem',\n",
              "       'status', 'bem terceiros', 'data balanco', 'data inicio uso',\n",
              "       'ano balanco', 'garantia', 'data validade', 'localidade',\n",
              "       'ultimo levantamento', 'unidade tombamento', 'valor', 'valor entrada',\n",
              "       'valor acumulado', 'depreciavel', 'valor depreciacao acumulada',\n",
              "       'data ultimo ajuste', 'vida util', 'vida util base depreciacao',\n",
              "       'data ultimo ajuste depreciacao', 'tipo bloqueio', 'matriz',\n",
              "       'qtd de gavetas', 'serie_total', 'modelo_total', 'especificacoes',\n",
              "       'tombo_antigo', 'marca_total', 'sigla'],\n",
              "      dtype='object')"
            ]
          },
          "metadata": {},
          "execution_count": 178
        }
      ]
    },
    {
      "cell_type": "markdown",
      "source": [
        "#Retorno do arquivo"
      ],
      "metadata": {
        "id": "X2J_MXzfwgG6"
      }
    },
    {
      "cell_type": "code",
      "source": [
        "    ugs = [\n",
        "    #'None',\n",
        "    'SRAC',\n",
        "    'SRAL',\n",
        "    'SRAP',\n",
        "    'SRAM',\n",
        "    'SRBA',\n",
        "    'SRCE',\n",
        "    'CGAD',\n",
        "    'SRDF',\n",
        "    'DITEC',\n",
        "    'DIREN',\n",
        "    'DTI',\n",
        "    'SRES',\n",
        "    'FIG',\n",
        "    'SRGO',\n",
        "    'SRMA',\n",
        "    'SRMT',\n",
        "    'SRMS',\n",
        "    'SRMG',\n",
        "    'SRPA',\n",
        "    'SRPB',\n",
        "    'SRPR',\n",
        "    'SRPE',\n",
        "    'SRPI',\n",
        "    'SRRJ',\n",
        "    'SRRN',\n",
        "    'SRRS',\n",
        "    'SRRO',\n",
        "    'SRRR',\n",
        "    'SRSC',\n",
        "    'SRSP',\n",
        "    'SRSE',\n",
        "    'SRTO']\n",
        "\n",
        "escolha_ug = widgets.Dropdown(options=ugs,description='Unidade Gestora',disabled=False) #permite interagir\n",
        "display(escolha_ug) #mostra menu\n",
        "\n",
        "while True:\n",
        "        print('Digite uma da opções acima: ')\n",
        "        selected_UG = input()\n",
        "        if selected_UG in ugs:\n",
        "            break\n",
        "        else:\n",
        "            print('Digite uma opção válida')\n",
        "\n"
      ],
      "metadata": {
        "colab": {
          "base_uri": "https://localhost:8080/",
          "height": 84,
          "referenced_widgets": [
            "53058383acd646c082a2d21a2f78d4e4",
            "d4fa79a0ecdb4822882dfbdf2ba8065c",
            "fe71ad1045594e7788f26e0b78de6ec3"
          ]
        },
        "id": "PKLh277amIro",
        "outputId": "486acd7a-1c7b-4f69-f129-957ce98dd469"
      },
      "execution_count": null,
      "outputs": [
        {
          "output_type": "display_data",
          "data": {
            "text/plain": [
              "Dropdown(description='Unidade Gestora', options=('SRAC', 'SRAL', 'SRAP', 'SRAM', 'SRBA', 'SRCE', 'CGAD', 'SRDF…"
            ],
            "application/vnd.jupyter.widget-view+json": {
              "version_major": 2,
              "version_minor": 0,
              "model_id": "53058383acd646c082a2d21a2f78d4e4"
            }
          },
          "metadata": {}
        },
        {
          "name": "stdout",
          "output_type": "stream",
          "text": [
            "Digite uma da opções acima: \n",
            "DITEC\n"
          ]
        }
      ]
    },
    {
      "cell_type": "markdown",
      "source": [
        "#Inventário"
      ],
      "metadata": {
        "id": "lVaZwK5VVd44"
      }
    },
    {
      "cell_type": "code",
      "source": [
        "excel_exportacao = base_elog.to_excel(f\"lista_bens-{selected_UG}.xlsx\", sheet_name='Sheet0', index=False)"
      ],
      "metadata": {
        "id": "nhljhrRl9L9G"
      },
      "execution_count": null,
      "outputs": []
    },
    {
      "cell_type": "code",
      "source": [
        "files.download(f'/content/lista_bens-{selected_UG}.xlsx')"
      ],
      "metadata": {
        "colab": {
          "base_uri": "https://localhost:8080/",
          "height": 17
        },
        "id": "fimhPhvt-BJ8",
        "outputId": "e6ec7db5-7133-47fb-89bd-0c4d10cce04b"
      },
      "execution_count": null,
      "outputs": [
        {
          "output_type": "display_data",
          "data": {
            "text/plain": [
              "<IPython.core.display.Javascript object>"
            ],
            "application/javascript": [
              "\n",
              "    async function download(id, filename, size) {\n",
              "      if (!google.colab.kernel.accessAllowed) {\n",
              "        return;\n",
              "      }\n",
              "      const div = document.createElement('div');\n",
              "      const label = document.createElement('label');\n",
              "      label.textContent = `Downloading \"${filename}\": `;\n",
              "      div.appendChild(label);\n",
              "      const progress = document.createElement('progress');\n",
              "      progress.max = size;\n",
              "      div.appendChild(progress);\n",
              "      document.body.appendChild(div);\n",
              "\n",
              "      const buffers = [];\n",
              "      let downloaded = 0;\n",
              "\n",
              "      const channel = await google.colab.kernel.comms.open(id);\n",
              "      // Send a message to notify the kernel that we're ready.\n",
              "      channel.send({})\n",
              "\n",
              "      for await (const message of channel.messages) {\n",
              "        // Send a message to notify the kernel that we're ready.\n",
              "        channel.send({})\n",
              "        if (message.buffers) {\n",
              "          for (const buffer of message.buffers) {\n",
              "            buffers.push(buffer);\n",
              "            downloaded += buffer.byteLength;\n",
              "            progress.value = downloaded;\n",
              "          }\n",
              "        }\n",
              "      }\n",
              "      const blob = new Blob(buffers, {type: 'application/binary'});\n",
              "      const a = document.createElement('a');\n",
              "      a.href = window.URL.createObjectURL(blob);\n",
              "      a.download = filename;\n",
              "      div.appendChild(a);\n",
              "      a.click();\n",
              "      div.remove();\n",
              "    }\n",
              "  "
            ]
          },
          "metadata": {}
        },
        {
          "output_type": "display_data",
          "data": {
            "text/plain": [
              "<IPython.core.display.Javascript object>"
            ],
            "application/javascript": [
              "download(\"download_1a367695-b7c1-431e-9afb-7c1516c9bcf2\", \"lista_bens-DITEC.xlsx\", 3272392)"
            ]
          },
          "metadata": {}
        }
      ]
    }
  ]
}