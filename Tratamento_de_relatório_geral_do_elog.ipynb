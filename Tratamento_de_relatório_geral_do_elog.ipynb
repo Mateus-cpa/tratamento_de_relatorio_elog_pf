{
  "cells": [
    {
      "cell_type": "markdown",
      "metadata": {
        "id": "view-in-github",
        "colab_type": "text"
      },
      "source": [
        "<a href=\"https://colab.research.google.com/github/Mateus-cpa/tratamento_de_relatorio_elog_pf/blob/main/Tratamento_de_relat%C3%B3rio_geral_do_elog.ipynb\" target=\"_parent\"><img src=\"https://colab.research.google.com/assets/colab-badge.svg\" alt=\"Open In Colab\"/></a>"
      ]
    },
    {
      "cell_type": "markdown",
      "metadata": {
        "id": "iZRagvzWyIRO"
      },
      "source": [
        "# Como utilizar\n",
        "1. Menu Ambiente de execução\n",
        "2. Comando \"Executar tudo\"\n",
        "3. Em \"Carregamento de dados\", informe a UG no campo em branco\n",
        "4. Após, Clique no botão \"Escolher arquivos\" e carregue a lista exportada pelo eLog\n",
        "5. Aguarde o programa processar\n",
        "6. O arquivo processado será baixado.\n",
        "\n",
        "# Exportar para a planilha de levantamento\n",
        "1. Copie SOMENTE o texto da"
      ]
    },
    {
      "cell_type": "markdown",
      "metadata": {
        "id": "RukMHKD7lIlB"
      },
      "source": [
        "# Importação de bibliotecas\n"
      ]
    },
    {
      "cell_type": "code",
      "execution_count": 1,
      "metadata": {
        "id": "W0ZMK091lLph"
      },
      "outputs": [],
      "source": [
        "from google.colab import files\n",
        "import numpy as np\n",
        "import pandas as pd\n",
        "import matplotlib.pyplot as plt\n",
        "import plotly.express as px\n",
        "import seaborn as sns\n",
        "import datetime as dt\n",
        "import io\n",
        "import os"
      ]
    },
    {
      "cell_type": "markdown",
      "metadata": {
        "id": "gRVbkDwej59Z"
      },
      "source": [
        "# Carregamento de dados"
      ]
    },
    {
      "cell_type": "code",
      "execution_count": 2,
      "metadata": {
        "colab": {
          "base_uri": "https://localhost:8080/",
          "height": 393
        },
        "id": "PKLh277amIro",
        "outputId": "b485f642-b86d-494f-8cf8-af493750ee1f"
      },
      "outputs": [
        {
          "output_type": "stream",
          "name": "stdout",
          "text": [
            "['SRAC', 'SRAL', 'SRAP', 'SRAM', 'SRBA', 'SRCE', 'CGAD', 'SRDF', 'DITEC', 'DIREN', 'DTI', 'SRES', 'FIG', 'SRGO', 'SRMA', 'SRMT', 'SRMS', 'SRMG', 'SRPA', 'SRPB', 'SRPR', 'SRPE', 'SRPI', 'SRRJ', 'SRRN', 'SRRS', 'SRRO', 'SRRR', 'SRSC', 'SRSP', 'SRSE', 'SRTO']\n"
          ]
        },
        {
          "output_type": "error",
          "ename": "KeyboardInterrupt",
          "evalue": "Interrupted by user",
          "traceback": [
            "\u001b[0;31m---------------------------------------------------------------------------\u001b[0m",
            "\u001b[0;31mKeyboardInterrupt\u001b[0m                         Traceback (most recent call last)",
            "\u001b[0;32m<ipython-input-2-be6c27b5cbe1>\u001b[0m in \u001b[0;36m<cell line: 0>\u001b[0;34m()\u001b[0m\n\u001b[1;32m     36\u001b[0m     \u001b[0mprint\u001b[0m\u001b[0;34m(\u001b[0m\u001b[0mugs\u001b[0m\u001b[0;34m)\u001b[0m\u001b[0;34m\u001b[0m\u001b[0;34m\u001b[0m\u001b[0m\n\u001b[1;32m     37\u001b[0m     \u001b[0mselected_UG\u001b[0m \u001b[0;34m=\u001b[0m \u001b[0;34m\"SRPR\"\u001b[0m\u001b[0;34m\u001b[0m\u001b[0;34m\u001b[0m\u001b[0m\n\u001b[0;32m---> 38\u001b[0;31m     \u001b[0mselected_UG\u001b[0m \u001b[0;34m=\u001b[0m \u001b[0minput\u001b[0m\u001b[0;34m(\u001b[0m\u001b[0;34m)\u001b[0m\u001b[0;34m.\u001b[0m\u001b[0mupper\u001b[0m\u001b[0;34m(\u001b[0m\u001b[0;34m)\u001b[0m\u001b[0;34m\u001b[0m\u001b[0;34m\u001b[0m\u001b[0m\n\u001b[0m\u001b[1;32m     39\u001b[0m     \u001b[0;32mif\u001b[0m \u001b[0mselected_UG\u001b[0m \u001b[0;32min\u001b[0m \u001b[0mugs\u001b[0m\u001b[0;34m:\u001b[0m\u001b[0;34m\u001b[0m\u001b[0;34m\u001b[0m\u001b[0m\n\u001b[1;32m     40\u001b[0m         \u001b[0;32mbreak\u001b[0m\u001b[0;34m\u001b[0m\u001b[0;34m\u001b[0m\u001b[0m\n",
            "\u001b[0;32m/usr/local/lib/python3.11/dist-packages/ipykernel/kernelbase.py\u001b[0m in \u001b[0;36mraw_input\u001b[0;34m(self, prompt)\u001b[0m\n\u001b[1;32m   1175\u001b[0m                 \u001b[0;34m\"raw_input was called, but this frontend does not support input requests.\"\u001b[0m\u001b[0;34m\u001b[0m\u001b[0;34m\u001b[0m\u001b[0m\n\u001b[1;32m   1176\u001b[0m             )\n\u001b[0;32m-> 1177\u001b[0;31m         return self._input_request(\n\u001b[0m\u001b[1;32m   1178\u001b[0m             \u001b[0mstr\u001b[0m\u001b[0;34m(\u001b[0m\u001b[0mprompt\u001b[0m\u001b[0;34m)\u001b[0m\u001b[0;34m,\u001b[0m\u001b[0;34m\u001b[0m\u001b[0;34m\u001b[0m\u001b[0m\n\u001b[1;32m   1179\u001b[0m             \u001b[0mself\u001b[0m\u001b[0;34m.\u001b[0m\u001b[0m_parent_ident\u001b[0m\u001b[0;34m[\u001b[0m\u001b[0;34m\"shell\"\u001b[0m\u001b[0;34m]\u001b[0m\u001b[0;34m,\u001b[0m\u001b[0;34m\u001b[0m\u001b[0;34m\u001b[0m\u001b[0m\n",
            "\u001b[0;32m/usr/local/lib/python3.11/dist-packages/ipykernel/kernelbase.py\u001b[0m in \u001b[0;36m_input_request\u001b[0;34m(self, prompt, ident, parent, password)\u001b[0m\n\u001b[1;32m   1217\u001b[0m             \u001b[0;32mexcept\u001b[0m \u001b[0mKeyboardInterrupt\u001b[0m\u001b[0;34m:\u001b[0m\u001b[0;34m\u001b[0m\u001b[0;34m\u001b[0m\u001b[0m\n\u001b[1;32m   1218\u001b[0m                 \u001b[0;31m# re-raise KeyboardInterrupt, to truncate traceback\u001b[0m\u001b[0;34m\u001b[0m\u001b[0;34m\u001b[0m\u001b[0m\n\u001b[0;32m-> 1219\u001b[0;31m                 \u001b[0;32mraise\u001b[0m \u001b[0mKeyboardInterrupt\u001b[0m\u001b[0;34m(\u001b[0m\u001b[0;34m\"Interrupted by user\"\u001b[0m\u001b[0;34m)\u001b[0m \u001b[0;32mfrom\u001b[0m \u001b[0;32mNone\u001b[0m\u001b[0;34m\u001b[0m\u001b[0;34m\u001b[0m\u001b[0m\n\u001b[0m\u001b[1;32m   1220\u001b[0m             \u001b[0;32mexcept\u001b[0m \u001b[0mException\u001b[0m\u001b[0;34m:\u001b[0m\u001b[0;34m\u001b[0m\u001b[0;34m\u001b[0m\u001b[0m\n\u001b[1;32m   1221\u001b[0m                 \u001b[0mself\u001b[0m\u001b[0;34m.\u001b[0m\u001b[0mlog\u001b[0m\u001b[0;34m.\u001b[0m\u001b[0mwarning\u001b[0m\u001b[0;34m(\u001b[0m\u001b[0;34m\"Invalid Message:\"\u001b[0m\u001b[0;34m,\u001b[0m \u001b[0mexc_info\u001b[0m\u001b[0;34m=\u001b[0m\u001b[0;32mTrue\u001b[0m\u001b[0;34m)\u001b[0m\u001b[0;34m\u001b[0m\u001b[0;34m\u001b[0m\u001b[0m\n",
            "\u001b[0;31mKeyboardInterrupt\u001b[0m: Interrupted by user"
          ]
        }
      ],
      "source": [
        "ugs = [\n",
        "    'SRAC',\n",
        "    'SRAL',\n",
        "    'SRAP',\n",
        "    'SRAM',\n",
        "    'SRBA',\n",
        "    'SRCE',\n",
        "    'CGAD',\n",
        "    'SRDF',\n",
        "    'DITEC',\n",
        "    'DIREN',\n",
        "    'DTI',\n",
        "    'SRES',\n",
        "    'FIG',\n",
        "    'SRGO',\n",
        "    'SRMA',\n",
        "    'SRMT',\n",
        "    'SRMS',\n",
        "    'SRMG',\n",
        "    'SRPA',\n",
        "    'SRPB',\n",
        "    'SRPR',\n",
        "    'SRPE',\n",
        "    'SRPI',\n",
        "    'SRRJ',\n",
        "    'SRRN',\n",
        "    'SRRS',\n",
        "    'SRRO',\n",
        "    'SRRR',\n",
        "    'SRSC',\n",
        "    'SRSP',\n",
        "    'SRSE',\n",
        "    'SRTO',\n",
        "    'geral']\n",
        "\n",
        "while True:\n",
        "    print(ugs)\n",
        "    selected_UG = \"SRPR\"\n",
        "    selected_UG = input().upper()\n",
        "    if selected_UG in ugs:\n",
        "        break\n",
        "    else:\n",
        "        print(\"UG inválida\")\n",
        "\n"
      ]
    },
    {
      "cell_type": "code",
      "execution_count": null,
      "metadata": {
        "id": "2WJNe3zNjzVz"
      },
      "outputs": [],
      "source": [
        "#importar os dados da pasta do computador\n",
        "uploaded = files.upload()\n",
        "filename = next(iter(uploaded))\n",
        "#df = pd.read_excel(io.BytesIO(uploaded[filename]), engine='calamine')"
      ]
    },
    {
      "cell_type": "code",
      "execution_count": null,
      "metadata": {
        "id": "YyibZVkKtjlD"
      },
      "outputs": [],
      "source": [
        "df = pd.read_excel(io.BytesIO(uploaded[filename]))"
      ]
    },
    {
      "cell_type": "code",
      "execution_count": null,
      "metadata": {
        "id": "c-EqbgMl_Epw"
      },
      "outputs": [],
      "source": [
        "def pega_tamanho_em_mb(filepath):\n",
        "  \"\"\" Retorna o tamanho de um arquivo em Mb. \"\"\"\n",
        "  tamanho_em_bytes = os.path.getsize(filepath)\n",
        "  tamanho_em_mb = tamanho_em_bytes / (1024 * 1024)\n",
        "  return tamanho_em_mb\n",
        "\n",
        "filepath = f'/content/{filename}'\n",
        "tamanho_antigo_arquivo = pega_tamanho_em_mb(filepath)\n",
        "print(f\"O tamanho do arquivo é: {tamanho_antigo_arquivo} MB\")"
      ]
    },
    {
      "cell_type": "code",
      "execution_count": null,
      "metadata": {
        "id": "8fsF_2XmDDEC"
      },
      "outputs": [],
      "source": [
        "#configurar num tombamento como índice\n",
        "base_elog = df.copy()\n",
        "base_elog['index'] = base_elog['num tombamento']\n",
        "base_elog.set_index('index')\n",
        "base_elog.columns"
      ]
    },
    {
      "cell_type": "markdown",
      "metadata": {
        "id": "3YkCsDnD9fAS"
      },
      "source": [
        "# Processamento dos dados"
      ]
    },
    {
      "cell_type": "code",
      "execution_count": null,
      "metadata": {
        "id": "Xdnz2WQjmX1K"
      },
      "outputs": [],
      "source": [
        "qtde_bens = len(base_elog.index)\n",
        "\n",
        "#contar a quantidade de bens\n",
        "print(f'quantidade de bens: {qtde_bens}')\n",
        "\n",
        "#retornar a proporção de valores nulos em cada coluna\n",
        "df_null = base_elog.isnull().sum()/qtde_bens*100\n",
        "df_null.sort_values(ascending=False).head(30)"
      ]
    },
    {
      "cell_type": "code",
      "execution_count": null,
      "metadata": {
        "id": "oxxizM0_5hdx"
      },
      "outputs": [],
      "source": [
        "#colunas no arquivo original\n",
        "qtde_colunas_antes = len(base_elog.columns)\n",
        "print(f'quantidade de colunas antes: {qtde_colunas_antes}')\n",
        "\n",
        "base_elog.columns.values"
      ]
    },
    {
      "cell_type": "code",
      "execution_count": null,
      "metadata": {
        "id": "oQjQNFAQH9Yq"
      },
      "outputs": [],
      "source": [
        "#checar se colunas de números de série existem na planilha\n",
        "cols_to_check = ['imei','n de serie', 'numero de serie',\n",
        "                'numero de serie.1', 'numero de serie  ',\n",
        "                 'num serie', 'placa', 'placa  ', 'placa vinculada',\n",
        "                 'placa oficial', 'placa ','numero de serie.2',\n",
        "                 'n  serie']\n",
        "\n",
        "existing_serie_cols = [col for col in cols_to_check if col in base_elog.columns]\n",
        "\n",
        "print(existing_serie_cols)\n",
        "\n",
        "\n",
        "#checar se colunas de modelo existem na planilha\n",
        "cols_to_check = ['modelo', 'modelo  ', 'modelo    ', 'modelo1', 'modelo.1']\n",
        "\n",
        "existing_modelo_cols = [col for col in cols_to_check if col in base_elog.columns]\n",
        "\n",
        "print(existing_modelo_cols)\n",
        "\n",
        "\n",
        "# checar se colunas de marca existem na planilha\n",
        "cols_to_check = ['marca','marca.1', 'marca1']\n",
        "\n",
        "existing_marca_cols = [col for col in cols_to_check if col in base_elog.columns]\n",
        "\n",
        "print(existing_marca_cols)\n",
        "\n",
        "\n",
        "#checar se colunas de tombo antigo existem na planilha\n",
        "cols_to_check = ['tombo antigo', 'tombo antigo.1']\n",
        "\n",
        "existing_tombo_antigo_cols = [col for col in cols_to_check if col in base_elog.columns]\n",
        "\n",
        "print(existing_tombo_antigo_cols)\n",
        "\n",
        "\n",
        "# checar se colunas de especificações na planilha\n",
        "cols_to_check = ['observacao bloqueio', 'matriz', 'qtd de rodas',\n",
        "                'acabamento da estrutura', 'altura', 'ano de fabricacao',\n",
        "                'ano do modelo', 'aplicacao', 'bordas', 'calibre', 'calibre  ',\n",
        "                'carga', 'data de validade', 'destino', 'genero', 'largura',\n",
        "                'lote  numeros e letras sem espacos e caracteres especiais ',\n",
        "                'material', 'material do assento e encosto',\n",
        "                'material revestimento assento e encosto',\n",
        "                'memoria de armazenamento', 'necessita ser substituido', 'nivel de protecao',\n",
        "                'numero de chassis', 'numero de raias',\n",
        "                    'num serie  chassis',\n",
        "                'ostensivo', 'profundidade', 'qtd de gavetas',\n",
        "                'qtd de passageiros', 'qtd de portas', 'renavam',\n",
        "                'sentido das raias', 'servidor responsavel', 'tamanho  novo ',\n",
        "                'tipo de veiculo', 'alcance',\n",
        "                'ano de fabricacao.1', 'aplicacao.1', 'blindagem', 'calibre.1',\n",
        "                'capacidade', 'capacidade de tiros', 'combustivel',\n",
        "                'compartimento cela', 'contraste', 'cor', 'cor predominante',\n",
        "                'dimensao', 'espaco disco rigido', 'faixa de operacao',\n",
        "                'frequencia', 'heavy duty', 'impedancia', 'interface',\n",
        "                'largura de leitura', 'material.1', 'material da estrutura',\n",
        "                'meio de aquisicao', 'numero de portas',\n",
        "                'padrao de leitura', 'peso',\n",
        "                'polegadas', 'potencia', 'potencia  cv ', 'qtd de canais',\n",
        "                'qtd de nivel', 'qtd memoria ram', 'resolucao', 'revestimento',\n",
        "                'tamanho da tela', 'taxa de transferencia', 'tensao',\n",
        "                'tensao de alimentacao', 'tipo', 'tipo de identificacao',\n",
        "                'tipo de propriedade', 'velocidade de varredura', 'voltagem',\n",
        "                'zoom otico', 'nivel de protecao da placa', 'tipo do monitor',\n",
        "                'carga.1',\t'classe',\t'portas',\t'tanque',\t'velocidade',\n",
        "                'volume', 'bitola do pneu', 'numero do registro', 'qtde de canais',\n",
        "                'nome da embarcacao', 'numero de registro','tipo de veiculo.1',\n",
        "                'descritor especial','temporario']\n",
        "\n",
        "existing_especificacoes_cols = [col for col in cols_to_check if col in base_elog.columns]\n",
        "\n",
        "print(existing_especificacoes_cols)"
      ]
    },
    {
      "cell_type": "code",
      "execution_count": null,
      "metadata": {
        "id": "ARSZwMCC1Q0c"
      },
      "outputs": [],
      "source": [
        "# criar coluna de serie que compilará os demais números de série\n",
        "base_elog['serie_total'] = None\n",
        "base_elog['modelo_total'] = None\n",
        "base_elog['especificacoes'] = None\n",
        "base_elog['tombo_antigo'] = None\n",
        "base_elog['marca_total'] = None\n",
        "\n",
        "\n",
        "lista_colunas_exibir = ['denominacao','serie_total', 'modelo_total', 'tombo_antigo', 'marca_total', 'especificacoes']\n",
        "\n"
      ]
    },
    {
      "cell_type": "code",
      "execution_count": null,
      "metadata": {
        "id": "xgH2zWjphFw6"
      },
      "outputs": [],
      "source": [
        "#define as funções\n",
        "def create_especificacoes(row):\n",
        "    especificacoes = {}\n",
        "    for col in existing_especificacoes_cols:\n",
        "        if col in row and not pd.isna(row[col]):\n",
        "            especificacoes[col] = row[col]\n",
        "    return especificacoes\n",
        "\n",
        "def compile_series(row, existing_serie_cols):\n",
        "    lista_numero_series = []\n",
        "    for col in existing_serie_cols:\n",
        "        value = row[col]\n",
        "        if not pd.isna(value) and value not in [\" \",\"\", \".\", \"...\"]:\n",
        "            lista_numero_series.append(str(value).strip())\n",
        "\n",
        "    lista_numero_series = list(set(lista_numero_series))\n",
        "    return ', '.join(lista_numero_series)\n",
        "\n",
        "def compile_modelo(row, existing_modelo_cols):\n",
        "    lista_modelo = []\n",
        "    for col in existing_modelo_cols:\n",
        "        value = row[col]\n",
        "        if not pd.isna(value) and value not in [\" \",\"\", \".\", \"...\"]:\n",
        "            lista_modelo.append(str(value).strip())\n",
        "\n",
        "    lista_modelo = list(set(lista_modelo))\n",
        "    return ', '.join(lista_modelo)\n",
        "\n",
        "def compile_marca(row, existing_marca_cols):\n",
        "    lista_marca = []\n",
        "    for col in existing_marca_cols:\n",
        "        value = row[col]\n",
        "        if not pd.isna(value) and value not in [\" \",\"\", \".\", \"...\"]:\n",
        "            lista_marca.append(str(value).strip())\n",
        "\n",
        "    lista_marca = list(set(lista_marca))\n",
        "    return ', '.join(lista_marca)\n",
        "\n",
        "def compile_tombo_antigo(row, existing_tombo_antigo_cols):\n",
        "    lista_tombo_antigo = []\n",
        "    for col in existing_tombo_antigo_cols:\n",
        "        value = row[col]\n",
        "        if not pd.isna(value) and value not in [\" \",\"\", \".\", \"...\"]:\n",
        "            for char in str(value):\n",
        "                value = str(value).lstrip('P')\n",
        "                value = str(value).lstrip('S')\n",
        "                value = str(value).lstrip('0')\n",
        "            lista_tombo_antigo.append(str(value).strip())\n",
        "\n",
        "    lista_tombo_antigo = list(set(lista_tombo_antigo))\n",
        "    return ', '.join(lista_tombo_antigo)\n",
        "\n",
        "#chamar as funções\n",
        "base_elog['especificacoes'] = base_elog.apply(create_especificacoes, axis=1)\n",
        "base_elog['serie_total'] = base_elog.apply(compile_series, axis=1, args=(existing_serie_cols,))\n",
        "base_elog['modelo_total'] = base_elog.apply(compile_modelo, axis=1, args=(existing_modelo_cols,))\n",
        "base_elog['marca_total'] = base_elog.apply(compile_marca, axis=1, args=(existing_marca_cols,))\n",
        "base_elog['tombo_antigo'] = base_elog[existing_tombo_antigo_cols].apply(compile_tombo_antigo, axis=1, args=(existing_tombo_antigo_cols,))\n"
      ]
    },
    {
      "cell_type": "code",
      "execution_count": null,
      "metadata": {
        "id": "gOMxczhFLDJj"
      },
      "outputs": [],
      "source": [
        "#exclui as colunas compiladas\n",
        "base_elog.drop(columns=existing_tombo_antigo_cols, inplace=True)\n",
        "base_elog.drop(columns=existing_modelo_cols, inplace=True)\n",
        "base_elog.drop(columns=existing_serie_cols, inplace=True)\n",
        "base_elog.drop(columns=existing_marca_cols, inplace=True)\n",
        "base_elog.drop(columns=existing_especificacoes_cols, inplace=True)\n",
        "base_elog.drop(columns='index', inplace=True)\n"
      ]
    },
    {
      "cell_type": "code",
      "execution_count": null,
      "metadata": {
        "id": "t0y6ypXLyflB"
      },
      "outputs": [],
      "source": [
        "# dividir a célula e retornar a última parte após '-' para retitrar a sigla\n",
        "base_elog['sigla'] = base_elog['unidade responsavel material'].apply(lambda x: x.split('-')[-1])\n"
      ]
    },
    {
      "cell_type": "markdown",
      "metadata": {
        "id": "9nY3mtRI9G7b"
      },
      "source": [
        "## Reorganizar as colunas"
      ]
    },
    {
      "cell_type": "code",
      "execution_count": null,
      "metadata": {
        "id": "rMUPXbNp7V4L"
      },
      "outputs": [],
      "source": [
        "#trazer o tombo novo para a 1ª coluna (para o PROCV do excel)\n",
        "\n",
        "base_elog = base_elog.reindex(columns=['num tombamento'] + [col for col in base_elog.columns if col != 'num tombamento'])\n",
        "\n",
        "qtde_colunas_depois = len(base_elog.columns)\n",
        "print(f'quantidade de colunas depois: {qtde_colunas_depois}')\n",
        "print(f'quantidade de colunas excluídas: {qtde_colunas_antes - qtde_colunas_depois}')\n",
        "\n",
        "base_elog.columns\n",
        "\n"
      ]
    },
    {
      "cell_type": "markdown",
      "metadata": {
        "id": "lnontHN4a8xJ"
      },
      "source": [
        "## Preencher espaços vazios"
      ]
    },
    {
      "cell_type": "code",
      "execution_count": null,
      "metadata": {
        "id": "oQRhREUa9Qsa"
      },
      "outputs": [],
      "source": [
        "#Preencher campos vazios dos campos\n",
        "base_elog['localidade'].fillna('Sem localidade', inplace=True)"
      ]
    },
    {
      "cell_type": "markdown",
      "metadata": {
        "id": "IBCvcNxjt4hc"
      },
      "source": [
        "## Corrigir o tipo de colunas\n",
        "\n"
      ]
    },
    {
      "cell_type": "code",
      "execution_count": null,
      "metadata": {
        "id": "o1ODr9V9uUbO"
      },
      "outputs": [],
      "source": [
        "#transformar colunas em Object\n",
        "base_elog[['num tombamento', 'codigo', 'codigo material', 'tombo_antigo']] = base_elog[['num tombamento', 'codigo', 'codigo material', 'tombo_antigo']].astype(str)\n",
        "\n",
        "base_elog.dtypes\n"
      ]
    },
    {
      "cell_type": "code",
      "execution_count": null,
      "metadata": {
        "id": "CqTZWspmxZz5"
      },
      "outputs": [],
      "source": [
        "\"\"\"\n",
        "NÃO UTILIZAR ESSA FUNÇÃO EM PYTHON, POIS NO QLIK ELE JÁ CONVERTE PARA FLOAT\n",
        "# função para substituir \".\" por \"\" e \",\" por \".\"\n",
        "def repor_virgula_por_ponto(valor):\n",
        "   if isinstance(valor, str):\n",
        "    novo_valor = valor.replace('.', '').replace(',', '.')\n",
        "    return novo_valor\n",
        "   else:\n",
        "    return valor\n",
        "\n",
        "\n",
        "# Aplicar a função repor_virgula_por_ponto() a todas as colunas do DataFrame\n",
        "\n",
        "colunas_valores = ['valor', 'valor entrada', 'valor acumulado', 'valor depreciacao acumulada', 'vida util', 'vida util base depreciacao']\n",
        "base_elog[colunas_valores] = base_elog[colunas_valores].apply(lambda x: x.apply(repor_virgula_por_ponto))\n",
        "\n",
        "\n",
        "base_elog[['valor','valor entrada','valor acumulado','valor depreciacao acumulada',\n",
        "           'data ultimo ajuste',\n",
        "           'vida util',\n",
        "           'vida util base depreciacao']].dtypes\"\"\""
      ]
    },
    {
      "cell_type": "markdown",
      "metadata": {
        "id": "A9D-AHeW3w5M"
      },
      "source": [
        "## Preenchimento de campos vazios"
      ]
    },
    {
      "cell_type": "markdown",
      "metadata": {
        "id": "xvtdxRcfKSvB"
      },
      "source": [
        "### Último Ano de levantamento"
      ]
    },
    {
      "cell_type": "code",
      "execution_count": null,
      "metadata": {
        "id": "mG0I_891KVnX"
      },
      "outputs": [],
      "source": [
        "# separar os bens inventariados (ultimo levantamento) em 2024\n",
        "base_elog['ultimo levantamento'] = base_elog['ultimo levantamento'].fillna(\"0000 / 2010\")  # Repor NaN\n",
        "base_elog['ano do levantamento'] = base_elog['ultimo levantamento'].str.split('/').str[-1].str.strip().astype(int)\n"
      ]
    },
    {
      "cell_type": "markdown",
      "metadata": {
        "id": "ETyW91Nn32YD"
      },
      "source": [
        "### 'modelo_total', 'serie_total' e 'acautelado para'"
      ]
    },
    {
      "cell_type": "code",
      "execution_count": null,
      "metadata": {
        "id": "1mWtD9Lp39xh"
      },
      "outputs": [],
      "source": [
        "#preencher coluna modelo\n",
        "base_elog['modelo_total'] = base_elog['modelo_total'].fillna('Sem modelo')\n",
        "#substituir coluna serie_total \"\" por \"Sem serial cadastrado\"\n",
        "base_elog['serie_total'] = base_elog['serie_total'].replace('', 'Sem serial cadastrado')\n",
        "base_elog['acautelado para'] = base_elog['acautelado para'].replace('','Sem acautelamento')"
      ]
    },
    {
      "cell_type": "code",
      "execution_count": null,
      "metadata": {
        "id": "s8LMm1CM9wxt"
      },
      "outputs": [],
      "source": [
        "base_elog['serie_total'].describe()"
      ]
    },
    {
      "cell_type": "markdown",
      "metadata": {
        "id": "TSOATVcgS4Ta"
      },
      "source": [
        "#Insights estatísticos"
      ]
    },
    {
      "cell_type": "code",
      "execution_count": null,
      "metadata": {
        "id": "z-mu_deOTy7i"
      },
      "outputs": [],
      "source": [
        "bens_por_status = base_elog.groupby('status')['status'].count().sort_values(ascending=False)\n",
        "grafico_ativos = bens_por_status.plot(kind='pie', title = f'Quantidade de bens por Status ({selected_UG})',\n",
        "                     legend = True,\n",
        "                     #labels = None\n",
        "                      autopct='%1.1f%%'\n",
        "                     )\n",
        "grafico_ativos.legend(loc=\"upper right\")\n",
        "grafico_ativos.plot()\n"
      ]
    },
    {
      "cell_type": "code",
      "execution_count": null,
      "metadata": {
        "id": "eWm2RAMUTMuM"
      },
      "outputs": [],
      "source": [
        "bens_ativos = base_elog[base_elog.status.isin(['EFETIVADO','ACAUTELADO','BEM NÃO LOCALIZADO', 'EM PROCESSO DE ALIENAÇÃO', 'PENDENTE DE DISTRIBUIÇÃO PARA USO'])]\n",
        "bens_ativos.groupby('status')['status'].count().plot(kind='pie',\n",
        "                                                     title = f'Quantidade de bens ativos por Status ({selected_UG})',\n",
        "                                                     autopct = lambda p: '{:.2f}%({:.0f})'.format(p,(p/100)*bens_ativos.status.count()) # em valor absoluto\n",
        "                                                     );\n"
      ]
    },
    {
      "cell_type": "markdown",
      "metadata": {
        "id": "l61OcYcDghTs"
      },
      "source": [
        "## Proporção de bens acautelados assinados\n"
      ]
    },
    {
      "cell_type": "code",
      "execution_count": null,
      "metadata": {
        "id": "-NWGXqZaeZ02"
      },
      "outputs": [],
      "source": [
        "bens_acautelados = bens_ativos[bens_ativos.status == 'ACAUTELADO']\n",
        "num_acautelados = len(bens_acautelados)\n",
        "\n",
        "bens_acautelados.groupby('validado eletron')['validado eletron'].count().sort_values(ascending=True).plot(kind='pie',\n",
        "                                                     title = f'Proporção de bens acautelados por validação de assinatura ({selected_UG})',\n",
        "                                                     autopct='%1.1f%%');"
      ]
    },
    {
      "cell_type": "code",
      "execution_count": null,
      "metadata": {
        "id": "m_lJ8TGZISmx"
      },
      "outputs": [],
      "source": [
        "bens_ativos.groupby('estado bem')['estado bem'].count().plot(kind='pie',\n",
        "                                                     title = f'Quantidade de bens ativos por Status ({selected_UG})',\n",
        "                                                     autopct = lambda p: '{:.2f}%({:.0f})'.format(p,(p/100)*bens_ativos.status.count()) # em valor absoluto\n",
        "                                                        );"
      ]
    },
    {
      "cell_type": "markdown",
      "metadata": {
        "id": "UAbnV4uPgjhD"
      },
      "source": [
        "## Quantitativo de Inventariados"
      ]
    },
    {
      "cell_type": "code",
      "execution_count": null,
      "metadata": {
        "id": "ALW6e6PDgewq"
      },
      "outputs": [],
      "source": [
        "histograma_levantamento = bens_ativos.groupby('ano do levantamento')['ano do levantamento'].count()#\n",
        "\n",
        "#plotar histograma\n",
        "with sns.axes_style('whitegrid'):\n",
        "    grafico = histograma_levantamento.plot(kind='bar', title=f'Quantidade de bens ativos pelo último ano de inventário ({selected_UG})');\n",
        "    grafico.set_xlabel('Ano do último levantamento')\n",
        "    grafico.set_ylabel('Quantidade de bens ativos')\n",
        "    grafico.set_xticklabels(grafico.get_xticklabels(), rotation=45)\n",
        "\n",
        "# colocar valores nas barras\n",
        "for i, v in enumerate(histograma_levantamento):\n",
        "    grafico.text(i, v, str(v), ha='center', va='bottom')\n",
        "\n"
      ]
    },
    {
      "cell_type": "code",
      "execution_count": null,
      "metadata": {
        "id": "31bspWfXO8KY"
      },
      "outputs": [],
      "source": [
        "# Calcular a contagem para cada setor e ano\n",
        "contagem = bens_ativos.groupby(['sigla', 'ano do levantamento']).size().unstack()\n",
        "\n",
        "# calcular soma da quantidade de bens ativos de cada linha\n",
        "contagem['soma'] = contagem.sum(axis=1).fillna(0).astype(int)\n",
        "\n",
        "# calcular percentual de 'ano levantamento' = 2024 em relação ao total\n",
        "contagem['percentual'] = contagem[2025]/contagem['soma']\n",
        "contagem['percentual'] = contagem['percentual'].mul(100).round(1).fillna(0)\n",
        "\n",
        "#transformar em string\n",
        "\n",
        "contagem['soma'] = contagem['soma'].astype(str)\n",
        "contagem['percentual'] = contagem['percentual'].astype(str)\n",
        "\n",
        "contagem['sigla'] = contagem.index.get_level_values('sigla')\n",
        "contagem['sigla'] = contagem['sigla'] + ' (' + contagem['soma'].astype(str) + ' / ' + contagem['percentual'].astype(str) + '%)'\n",
        "\n",
        "contagem = contagem.drop(columns=['percentual'])\n",
        "\n",
        "#somar os valores de todas colunas de cada linhas, exceto coluna sigla\n",
        "colunas_numericas = contagem.select_dtypes(include=['float64', 'int64']).columns\n",
        "\n",
        "contagem['total'] = contagem[colunas_numericas].sum(axis=1)\n",
        "\n",
        "#ordenar por total\n",
        "contagem = contagem.sort_values(by='total', ascending=False)\n",
        "contagem = contagem.drop(columns=['total'])\n",
        "\n",
        "#plotar com plotly\n",
        "\n",
        "# Plotar o gráfico de barras empilhadas\n",
        "grafico_contagem = contagem.plot(kind='barh',\n",
        "                                 x = 'sigla',\n",
        "                                stacked=True,\n",
        "                                title=f'Bens ativos por setor e ano do último levantamento na {selected_UG} (Quantidade total de bens / percentual inventariado)',\n",
        "                                 colormap = 'RdBu')\n",
        "grafico_contagem.set_ylabel('Setor (% levantado)')\n",
        "grafico_contagem.set_xlabel('Quantidade de bens ativos')\n",
        "grafico_contagem.set_xticklabels(grafico_contagem.get_xticklabels(), rotation=45)\n",
        "grafico_contagem.figure.set_size_inches(20, 15); # tamanho"
      ]
    },
    {
      "cell_type": "code",
      "execution_count": null,
      "metadata": {
        "id": "BMFCuM3jqsA1"
      },
      "outputs": [],
      "source": [
        "# imprimir data de ontem\n",
        "print(f'Situação:               {dt.date.today() - dt.timedelta(days=1)}')\n",
        "print(f'Bens inventariados:     {round(len(bens_ativos[bens_ativos[\"ano do levantamento\"] == 2025])/len(bens_ativos)*100,2)}%')\n",
        "print(f'Bens inventariados:     {len(bens_ativos[bens_ativos[\"ano do levantamento\"] == 2025])}')\n",
        "print(f'Bens não inventariados: {round(100-len(bens_ativos[bens_ativos[\"ano do levantamento\"] == 2025])/len(bens_ativos)*100,2)}%')\n",
        "print(f'Bens não inventariados: {len(bens_ativos[bens_ativos[\"ano do levantamento\"] != 2025])}')\n"
      ]
    },
    {
      "cell_type": "markdown",
      "metadata": {
        "id": "Xf6xmvCl9n5P"
      },
      "source": [
        "## Comparativo de quantidade de colunas"
      ]
    },
    {
      "cell_type": "code",
      "execution_count": null,
      "metadata": {
        "id": "h7W6Nw0R9tdZ"
      },
      "outputs": [],
      "source": [
        "base_elog.drop(columns='ano do levantamento', inplace=True)\n",
        "\n",
        "qtd_colunas = [qtde_colunas_antes, qtde_colunas_depois]\n",
        "\n",
        "plt.bar(['antes', 'depois'], qtd_colunas)\n",
        "plt.ylabel('Quantidade de colunas')\n",
        "plt.title(f'Quantidade de colunas antes e depois do processamento ({selected_UG})')\n",
        "plt.text(0, qtd_colunas[0], f'{qtd_colunas[0]}', ha='center', va='bottom')\n",
        "plt.text(1, qtd_colunas[1], f'{qtd_colunas[1]}', ha='center', va='bottom')\n",
        "plt.show()\n",
        "base_elog.columns"
      ]
    },
    {
      "cell_type": "markdown",
      "metadata": {
        "id": "McjEXf6gExOT"
      },
      "source": [
        "## Comparativo de arquivos"
      ]
    },
    {
      "cell_type": "code",
      "execution_count": null,
      "metadata": {
        "id": "SDEodGfgD58h"
      },
      "outputs": [],
      "source": [
        "# Exportação dos arquivos\n",
        "excel_exportacao = base_elog.to_excel(f\"lista_bens-{selected_UG}-processado.xlsx\", sheet_name='Sheet0', index=False)\n",
        "csv_exportacao = base_elog.to_csv(f\"lista_bens-{selected_UG}-processado.csv\", index=False)\n",
        "\n",
        "\n",
        "# Medição de tamanho do arquivo\n",
        "filepath = f\"lista_bens-{selected_UG}-processado.xlsx\"\n",
        "tamanho_novo_arquivo_xlsx = pega_tamanho_em_mb(filepath)\n",
        "\n",
        "filepath = f\"lista_bens-{selected_UG}-processado.csv\"\n",
        "tamanho_novo_arquivo_csv = pega_tamanho_em_mb(filepath)\n",
        "\n",
        "\n",
        "print(f\"O novo tamanho do arquivo .xlsx é: {tamanho_novo_arquivo_xlsx} MB\")\n",
        "\n",
        "tamanhos_arquivo = [tamanho_antigo_arquivo, tamanho_novo_arquivo_xlsx, tamanho_novo_arquivo_csv]\n",
        "plt.bar(['antes', 'depois xlsx','depois csv'], tamanhos_arquivo)\n",
        "plt.xlabel('Arquivo')\n",
        "plt.ylabel('Tamanho do arquivo (MB)')\n",
        "plt.title(f'Tamanho do arquivo antes e depois do processamento ({selected_UG})')\n",
        "plt.text(0, tamanhos_arquivo[0], f'{tamanhos_arquivo[0]:.2f} MB', ha='center', va='bottom')\n",
        "plt.text(1, tamanhos_arquivo[1], f'{tamanhos_arquivo[1]:.2f} MB', ha='center', va='bottom')\n",
        "plt.text(2, tamanhos_arquivo[2], f'{tamanhos_arquivo[2]:.2f} MB', ha='center', va='bottom')\n",
        "plt.show()\n"
      ]
    },
    {
      "cell_type": "markdown",
      "metadata": {
        "id": "X2J_MXzfwgG6"
      },
      "source": [
        "#Retorno do arquivo"
      ]
    },
    {
      "cell_type": "code",
      "execution_count": null,
      "metadata": {
        "id": "fimhPhvt-BJ8"
      },
      "outputs": [],
      "source": [
        "files.download(f'/content/lista_bens-{selected_UG}-processado.xlsx')\n",
        "#files.download(f'/content/lista_bens-{selected_UG}-processado.csv')"
      ]
    },
    {
      "cell_type": "code",
      "execution_count": null,
      "metadata": {
        "id": "4qj7uS6dEuM0"
      },
      "outputs": [],
      "source": []
    }
  ],
  "metadata": {
    "colab": {
      "provenance": [],
      "authorship_tag": "ABX9TyPfc3U5aSYh+NIu7yy0qnOD",
      "include_colab_link": true
    },
    "kernelspec": {
      "display_name": "Python 3",
      "name": "python3"
    },
    "language_info": {
      "name": "python"
    }
  },
  "nbformat": 4,
  "nbformat_minor": 0
}